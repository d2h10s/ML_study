{
 "metadata": {
  "language_info": {
   "codemirror_mode": {
    "name": "ipython",
    "version": 3
   },
   "file_extension": ".py",
   "mimetype": "text/x-python",
   "name": "python",
   "nbconvert_exporter": "python",
   "pygments_lexer": "ipython3",
   "version": "3.8.8"
  },
  "orig_nbformat": 2,
  "kernelspec": {
   "name": "python388jvsc74a57bd024b81c45c1dc1e69ab378e03e1fcac7296434f7dbf10e15b6bd5c21a8ac878c1",
   "display_name": "Python 3.8.8 64-bit ('ML38': conda)"
  }
 },
 "nbformat": 4,
 "nbformat_minor": 2,
 "cells": [
  {
   "cell_type": "code",
   "execution_count": 2,
   "metadata": {},
   "outputs": [],
   "source": [
    "import numpy as np\n",
    "import torch\n",
    "from tensorboardX import SummaryWriter"
   ]
  },
  {
   "source": [
    "writer = SummaryWriter(logdir='data\\\\now2')  \n",
    "print(writer.logdir)  \n",
    "writer.add_scalar(\"scalar\", 3)  \n",
    "writer.close()  "
   ],
   "cell_type": "markdown",
   "metadata": {}
  },
  {
   "cell_type": "code",
   "execution_count": 3,
   "metadata": {},
   "outputs": [
    {
     "output_type": "stream",
     "name": "stdout",
     "text": [
      "tensor([[1, 2],\n        [3, 4]]) torch.int64\n"
     ]
    }
   ],
   "source": [
    "data = [[1,2],[3,4]]\n",
    "x_data = torch.tensor(data)\n",
    "print(x_data, x_data.dtype)"
   ]
  },
  {
   "cell_type": "code",
   "execution_count": 4,
   "metadata": {},
   "outputs": [
    {
     "output_type": "stream",
     "name": "stdout",
     "text": [
      "[[1 2]\n [3 4]] int32\n"
     ]
    }
   ],
   "source": [
    "np_data = np.array(data)\n",
    "x_np = torch.from_numpy(np_data)\n",
    "print(np_data, np_data.dtype)"
   ]
  },
  {
   "cell_type": "code",
   "execution_count": 8,
   "metadata": {},
   "outputs": [
    {
     "output_type": "stream",
     "name": "stdout",
     "text": [
      "tensor([[1, 1],\n        [1, 1]])\ntensor([[0.3990, 0.2711],\n        [0.6492, 0.9037]], dtype=torch.float64)\n"
     ]
    }
   ],
   "source": [
    "ones = torch.ones_like(x_data)\n",
    "rand = torch.rand_like(x_data, dtype=torch.float64)\n",
    "print(ones)\n",
    "print(rand)"
   ]
  },
  {
   "cell_type": "code",
   "execution_count": 11,
   "metadata": {},
   "outputs": [
    {
     "output_type": "stream",
     "name": "stdout",
     "text": [
      "tensor([[0.0777, 0.1819, 0.0213],\n        [0.7038, 0.2594, 0.9913]])\ntensor([[1., 1., 1.],\n        [1., 1., 1.]])\ntensor([[0., 0., 0.],\n        [0., 0., 0.]])\n"
     ]
    }
   ],
   "source": [
    "shape = (2,3)\n",
    "rand_tensor = torch.rand(shape)\n",
    "ones_tensor = torch.ones(shape)\n",
    "zeros_tensor = torch.zeros(shape)\n",
    "print(rand_tensor)\n",
    "print(ones_tensor)\n",
    "print(zeros_tensor)"
   ]
  },
  {
   "cell_type": "code",
   "execution_count": 13,
   "metadata": {},
   "outputs": [
    {
     "output_type": "stream",
     "name": "stdout",
     "text": [
      "torch.Size([2, 2])\ntorch.int64\ncpu\n"
     ]
    }
   ],
   "source": [
    "print(x_data.shape)\n",
    "print(x_data.dtype)\n",
    "print(x_data.device)"
   ]
  },
  {
   "cell_type": "code",
   "execution_count": 15,
   "metadata": {},
   "outputs": [],
   "source": [
    "if torch.cuda.is_available():\n",
    "    x_data = x_data.to('cuda')"
   ]
  },
  {
   "cell_type": "code",
   "execution_count": 19,
   "metadata": {},
   "outputs": [
    {
     "output_type": "stream",
     "name": "stdout",
     "text": [
      "tensor([1, 2])\ntensor([1, 3])\ntensor([2, 4])\ntensor([2, 4])\n"
     ]
    }
   ],
   "source": [
    "print(x_data[0])\n",
    "print(x_data[:,0])\n",
    "print(x_data[:,-1])\n",
    "print(x_data[...,-1])"
   ]
  },
  {
   "cell_type": "code",
   "execution_count": 27,
   "metadata": {},
   "outputs": [
    {
     "output_type": "stream",
     "name": "stdout",
     "text": [
      "tensor([[1, 2],\n        [3, 4],\n        [1, 2],\n        [3, 4],\n        [1, 2],\n        [3, 4]])\ntensor([[1, 2, 1, 2, 1, 2],\n        [3, 4, 3, 4, 3, 4]])\n"
     ]
    }
   ],
   "source": [
    "print(torch.cat([x_data, x_data, x_data], dim=0))\n",
    "print(torch.cat([x_data, x_data, x_data], dim=1))"
   ]
  },
  {
   "cell_type": "code",
   "execution_count": 51,
   "metadata": {},
   "outputs": [
    {
     "output_type": "stream",
     "name": "stdout",
     "text": [
      "tensor([[2., 2.],\n        [2., 2.]])\ntensor([[2., 2.],\n        [2., 2.]])\ntensor([[2., 2.],\n        [2., 2.]])\n"
     ]
    }
   ],
   "source": [
    "mdata = torch.ones([2,2])\n",
    "y1 = mdata @ mdata.T\n",
    "y2 = mdata.matmul(mdata.T)\n",
    "y3 = torch.rand_like(mdata)\n",
    "torch.matmul(mdata, mdata.T, out=y3)\n",
    "print(y1)\n",
    "print(y2)\n",
    "print(y3)"
   ]
  },
  {
   "cell_type": "code",
   "execution_count": 53,
   "metadata": {},
   "outputs": [
    {
     "output_type": "stream",
     "name": "stdout",
     "text": [
      "4.0 <class 'float'>\n"
     ]
    }
   ],
   "source": [
    "agg = mdata.sum()\n",
    "agg_item = agg.item()\n",
    "print(agg_item, type(agg_item)) # 파이썬 변수로 변환"
   ]
  },
  {
   "cell_type": "code",
   "execution_count": 62,
   "metadata": {},
   "outputs": [
    {
     "output_type": "stream",
     "name": "stdout",
     "text": [
      "tensor([[1, 3],\n        [2, 4]])\ntensor([[1, 3],\n        [2, 4]])\ntensor([[1, 3],\n        [2, 4]])\ntensor([[6, 8],\n        [7, 9]])\n"
     ]
    }
   ],
   "source": [
    "a = torch.tensor([[1,2],[3,4]])\n",
    "print(a.t())\n",
    "print(a.T)\n",
    "a.t_() # 바꿔치기 연산\n",
    "print(a)\n",
    "a.add_(5)\n",
    "성print(a)"
   ]
  },
  {
   "cell_type": "code",
   "execution_count": 69,
   "metadata": {},
   "outputs": [
    {
     "output_type": "stream",
     "name": "stdout",
     "text": [
      "[[1 2]\n [3 4]]\n<class 'torch.Tensor'> <class 'numpy.ndarray'>\n[[6 7]\n [8 9]]\n"
     ]
    }
   ],
   "source": [
    "a = torch.tensor([[1,2],[3,4]]) # 토치 배열 생성\n",
    "n = a.numpy() # 넘파이 배열 생성\n",
    "print(n)\n",
    "print(type(a), type(n))\n",
    "a.add_(5)\n",
    "print(n) # a의 값을 바꿔도 n에 반영이 된다."
   ]
  },
  {
   "cell_type": "code",
   "execution_count": 71,
   "metadata": {},
   "outputs": [
    {
     "output_type": "stream",
     "name": "stdout",
     "text": [
      "tensor([[1, 2],\n        [3, 4]], dtype=torch.int32)\ntensor([[6, 7],\n        [8, 9]], dtype=torch.int32)\n"
     ]
    }
   ],
   "source": [
    "n = np.array([[1,2],[3,4]])\n",
    "a = torch.from_numpy(n)\n",
    "print(a)\n",
    "np.add(n, 5, out=n)\n",
    "print(a) # n을 바꿔도 a에 반영이 된다."
   ]
  }
 ]
}