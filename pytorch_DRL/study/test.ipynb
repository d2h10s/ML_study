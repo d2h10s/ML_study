{
 "metadata": {
  "language_info": {
   "codemirror_mode": {
    "name": "ipython",
    "version": 3
   },
   "file_extension": ".py",
   "mimetype": "text/x-python",
   "name": "python",
   "nbconvert_exporter": "python",
   "pygments_lexer": "ipython3",
   "version": "3.8.8-final"
  },
  "orig_nbformat": 2,
  "kernelspec": {
   "name": "python3",
   "display_name": "Python 3.8.8 64-bit ('ml38': conda)",
   "metadata": {
    "interpreter": {
     "hash": "d84928e8581a1436cccff6579c37b6f68212c413376a5f61c93f10f35640f28b"
    }
   }
  }
 },
 "nbformat": 4,
 "nbformat_minor": 2,
 "cells": [
  {
   "cell_type": "code",
   "execution_count": 2,
   "metadata": {},
   "outputs": [],
   "source": [
    "import numpy as np"
   ]
  },
  {
   "cell_type": "code",
   "execution_count": 3,
   "metadata": {},
   "outputs": [
    {
     "output_type": "stream",
     "name": "stdout",
     "text": [
      "[[ 1  2  3]\n [12  3  4]]\n[[2.71828183e+00 7.38905610e+00 2.00855369e+01]\n [1.62754791e+05 2.00855369e+01 5.45981500e+01]]\n"
     ]
    }
   ],
   "source": [
    "a = np.array([[1,2,3],[12,3,4]])\n",
    "print(a)\n",
    "e = np.exp(a)\n",
    "print(e)"
   ]
  },
  {
   "cell_type": "code",
   "execution_count": 6,
   "metadata": {},
   "outputs": [],
   "source": [
    "def softmax_convert_into_pi_from_theta(theta):\n",
    "    beta = 1.0 #역온도, inverse temperature, beta가 낮아질수록 행동이 무작위가 된다.\n",
    "    m, n = theta.shape\n",
    "    pi = np.zeros((m, n))\n",
    "    exp_theta = np.exp(beta * theta)\n",
    "\n",
    "    for i in range(0, m):\n",
    "        pi[i, :] = exp_theta[i, :] / np.nansum(exp_theta[i, :]) # nan을 0으로 계산하여 합을 계산한다.\n",
    "        print(pi)\n",
    "\n",
    "    pi = np.nan_to_num(pi) # nan을 0으로 변환\n",
    "    return pi"
   ]
  },
  {
   "cell_type": "code",
   "execution_count": 7,
   "metadata": {},
   "outputs": [
    {
     "output_type": "stream",
     "name": "stdout",
     "text": [
      "[ 2.71828183  7.3890561  20.08553692]\n30.19287485057736\n[1.62754791e+05 2.00855369e+01 5.45981500e+01]\n162829.47510596027\n"
     ]
    },
    {
     "output_type": "execute_result",
     "data": {
      "text/plain": [
       "array([[9.00305732e-02, 2.44728471e-01, 6.65240956e-01],\n",
       "       [9.99541338e-01, 1.23353201e-04, 3.35308764e-04]])"
      ]
     },
     "metadata": {},
     "execution_count": 7
    }
   ],
   "source": [
    "softmax_convert_into_pi_from_theta(a)"
   ]
  }
 ]
}