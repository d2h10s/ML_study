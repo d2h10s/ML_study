{
 "metadata": {
  "language_info": {
   "codemirror_mode": {
    "name": "ipython",
    "version": 3
   },
   "file_extension": ".py",
   "mimetype": "text/x-python",
   "name": "python",
   "nbconvert_exporter": "python",
   "pygments_lexer": "ipython3",
   "version": "3.8.8-final"
  },
  "orig_nbformat": 2,
  "kernelspec": {
   "name": "python3",
   "display_name": "Python 3.8.8 64-bit ('ml38': conda)",
   "metadata": {
    "interpreter": {
     "hash": "d84928e8581a1436cccff6579c37b6f68212c413376a5f61c93f10f35640f28b"
    }
   }
  }
 },
 "nbformat": 4,
 "nbformat_minor": 2,
 "cells": [
  {
   "source": [
    "pip install seeborn  \n",
    "pip install pandas-datareader"
   ],
   "cell_type": "markdown",
   "metadata": {}
  },
  {
   "cell_type": "code",
   "execution_count": 1,
   "metadata": {},
   "outputs": [
    {
     "output_type": "execute_result",
     "data": {
      "text/plain": [
       "array([-0.0228143 , -0.00069692, -0.00676679, -0.02860041])"
      ]
     },
     "metadata": {},
     "execution_count": 1
    }
   ],
   "source": [
    "import gym\n",
    "e = gym.make('CartPole-v0')\n",
    "obs = e.reset()\n",
    "obs"
   ]
  },
  {
   "cell_type": "code",
   "execution_count": 2,
   "metadata": {},
   "outputs": [
    {
     "output_type": "stream",
     "name": "stdout",
     "text": [
      "1.8.0\n"
     ]
    }
   ],
   "source": [
    "import torch\n",
    "import numpy as np\n",
    "print(torch.__version__)"
   ]
  },
  {
   "source": [
    "## 파이토치 텐서를 만드는 법"
   ],
   "cell_type": "markdown",
   "metadata": {}
  },
  {
   "cell_type": "code",
   "execution_count": 3,
   "metadata": {},
   "outputs": [
    {
     "output_type": "stream",
     "name": "stdout",
     "text": [
      "tensor([[-6.5109e+33,  4.5862e-41],\n        [-6.3460e+33,  4.5862e-41],\n        [-6.3460e+33,  4.5862e-41]])\ntensor([[140569858608448, 140569858608448],\n        [140569325402864, 140569325402928],\n        [140569325402992, 140569325407648]])\ntensor([[161,   0],\n        [131,   1],\n        [100,   2]], dtype=torch.uint8)\n"
     ]
    }
   ],
   "source": [
    "a = torch.FloatTensor(3,2)\n",
    "b = torch.LongTensor(3,2)\n",
    "c = torch.ByteTensor(3,2)\n",
    "print(a)\n",
    "print(b)\n",
    "print(c)"
   ]
  },
  {
   "source": [
    "## 리스트로 텐서 만드는 법"
   ],
   "cell_type": "markdown",
   "metadata": {}
  },
  {
   "cell_type": "code",
   "execution_count": 4,
   "metadata": {},
   "outputs": [
    {
     "output_type": "stream",
     "name": "stdout",
     "text": [
      "tensor([1, 2, 3])\ntensor([1., 2., 3.])\ntensor([[1., 2., 3.],\n        [1., 2., 3.]])\n"
     ]
    }
   ],
   "source": [
    "print(torch.tensor([1,2,3]))\n",
    "print(torch.tensor([1.0, 2, 3]))\n",
    "print(torch.FloatTensor([[1,2,3],[1,2,3]]))"
   ]
  },
  {
   "source": [
    "## 모든 원소를 0으로 만드는 법"
   ],
   "cell_type": "markdown",
   "metadata": {}
  },
  {
   "cell_type": "code",
   "execution_count": 5,
   "metadata": {},
   "outputs": [
    {
     "output_type": "execute_result",
     "data": {
      "text/plain": [
       "tensor([[0., 0.],\n",
       "        [0., 0.],\n",
       "        [0., 0.]])"
      ]
     },
     "metadata": {},
     "execution_count": 5
    }
   ],
   "source": [
    "a.zero_()\n",
    "a"
   ]
  },
  {
   "source": [
    "## 넘파이에 매개변수 넣어서 타입변경"
   ],
   "cell_type": "markdown",
   "metadata": {}
  },
  {
   "cell_type": "code",
   "execution_count": 6,
   "metadata": {},
   "outputs": [
    {
     "output_type": "execute_result",
     "data": {
      "text/plain": [
       "tensor([[0., 0.],\n",
       "        [0., 0.],\n",
       "        [0., 0.]])"
      ]
     },
     "metadata": {},
     "execution_count": 6
    }
   ],
   "source": [
    "n = np.zeros(shape=(3,2), dtype=np.float32)\n",
    "torch.tensor(n)"
   ]
  },
  {
   "source": [
    "## 텐서에 매개변수 넣어서 타입 변경"
   ],
   "cell_type": "markdown",
   "metadata": {}
  },
  {
   "cell_type": "code",
   "execution_count": 7,
   "metadata": {},
   "outputs": [
    {
     "output_type": "execute_result",
     "data": {
      "text/plain": [
       "tensor([[0., 0.],\n",
       "        [0., 0.],\n",
       "        [0., 0.]])"
      ]
     },
     "metadata": {},
     "execution_count": 7
    }
   ],
   "source": [
    "n = np.zeros(shape=(3,2))\n",
    "torch.tensor(n, dtype=torch.float32)"
   ]
  },
  {
   "source": [
    "## 스칼라 텐서 만들고 접근하기(item)"
   ],
   "cell_type": "markdown",
   "metadata": {}
  },
  {
   "cell_type": "code",
   "execution_count": 8,
   "metadata": {},
   "outputs": [
    {
     "output_type": "stream",
     "name": "stdout",
     "text": [
      "tensor([1, 2, 3])\n6\ntensor([1])\n"
     ]
    }
   ],
   "source": [
    "a = torch.tensor([1,2,3])\n",
    "print(a)\n",
    "s = a.sum()\n",
    "print(s.item())\n",
    "\n",
    "print(torch.tensor([1]))"
   ]
  },
  {
   "source": [
    "## GPU 사용하기\n",
    "### wsl2는 사용불가"
   ],
   "cell_type": "markdown",
   "metadata": {}
  },
  {
   "source": [
    "a = torch.FloatTensor([2,3])  \n",
    "ca = a.cuda()  \n",
    "a + 1  \n",
    "ca + 1  \n",
    "ca.device  "
   ],
   "cell_type": "markdown",
   "metadata": {}
  },
  {
   "source": [
    "## Gradient"
   ],
   "cell_type": "markdown",
   "metadata": {}
  },
  {
   "cell_type": "code",
   "execution_count": 13,
   "metadata": {},
   "outputs": [
    {
     "output_type": "execute_result",
     "data": {
      "text/plain": [
       "tensor(12., grad_fn=<SumBackward0>)"
      ]
     },
     "metadata": {},
     "execution_count": 13
    }
   ],
   "source": [
    "v1 = torch.tensor([1.0, 1.0], requires_grad=True)\n",
    "v2 = torch.tensor([2.0, 2.0])\n",
    "v_sum = v1 + v2\n",
    "v_res = (v_sum * 2).sum()\n",
    "v_res"
   ]
  },
  {
   "cell_type": "code",
   "execution_count": 17,
   "metadata": {},
   "outputs": [
    {
     "output_type": "stream",
     "name": "stdout",
     "text": [
      "True True\nFalse False\nTrue\nFalse\nTrue\nTrue\n"
     ]
    }
   ],
   "source": [
    "print(v1.is_leaf, v2.is_leaf)\n",
    "print(v_sum.is_leaf, v_res.is_leaf)\n",
    "print(v1.requires_grad)\n",
    "print(v2.requires_grad)\n",
    "print(v_sum.requires_grad)\n",
    "print(v_res.requires_grad)"
   ]
  }
 ]
}