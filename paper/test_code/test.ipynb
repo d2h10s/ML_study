{
 "metadata": {
  "language_info": {
   "codemirror_mode": {
    "name": "ipython",
    "version": 3
   },
   "file_extension": ".py",
   "mimetype": "text/x-python",
   "name": "python",
   "nbconvert_exporter": "python",
   "pygments_lexer": "ipython3",
   "version": "3.8.8"
  },
  "orig_nbformat": 2,
  "kernelspec": {
   "name": "python388jvsc74a57bd0131e965be69731fd70bd42392c0119665f0c0029cc448e292442bef18e803ee1",
   "display_name": "Python 3.8.8 64-bit ('ML38cv': conda)"
  }
 },
 "nbformat": 4,
 "nbformat_minor": 2,
 "cells": [
  {
   "cell_type": "code",
   "execution_count": 1,
   "metadata": {},
   "outputs": [],
   "source": [
    "import tensorflow as tf\n",
    "import numpy as np\n",
    "import gym\n",
    "import time\n",
    "import matplotlib.pyplot as plt"
   ]
  },
  {
   "cell_type": "code",
   "execution_count": 5,
   "metadata": {},
   "outputs": [
    {
     "output_type": "stream",
     "name": "stdout",
     "text": [
      "-0.984807753012208\n-0.984807753012208\n"
     ]
    }
   ],
   "source": [
    "print(np.cos(np.deg2rad(170)))\n",
    "print(np.cos(np.deg2rad(-170)))"
   ]
  },
  {
   "cell_type": "code",
   "execution_count": 7,
   "metadata": {},
   "outputs": [
    {
     "output_type": "stream",
     "name": "stdout",
     "text": [
      "11.478340954533579\n"
     ]
    }
   ],
   "source": [
    "print(np.rad2deg(np.arccos(0.98)))"
   ]
  }
 ]
}