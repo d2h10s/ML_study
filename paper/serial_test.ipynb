{
 "metadata": {
  "language_info": {
   "codemirror_mode": {
    "name": "ipython",
    "version": 3
   },
   "file_extension": ".py",
   "mimetype": "text/x-python",
   "name": "python",
   "nbconvert_exporter": "python",
   "pygments_lexer": "ipython3",
   "version": "3.8.8"
  },
  "orig_nbformat": 4,
  "kernelspec": {
   "name": "python3",
   "display_name": "Python 3.8.8 64-bit ('ML38': conda)"
  },
  "interpreter": {
   "hash": "24b81c45c1dc1e69ab378e03e1fcac7296434f7dbf10e15b6bd5c21a8ac878c1"
  }
 },
 "nbformat": 4,
 "nbformat_minor": 2,
 "cells": [
  {
   "cell_type": "code",
   "execution_count": 4,
   "metadata": {},
   "outputs": [],
   "source": [
    "import serial\n",
    "STX = b'\\x02\n",
    "ETX = b'\\x03\n",
    "ACK = b'\\x06'\n",
    "NAK = b'\\x15'\n",
    "robot = serial.Serial()"
   ]
  },
  {
   "cell_type": "code",
   "execution_count": 7,
   "metadata": {},
   "outputs": [],
   "source": [
    "def autoSerial():\n",
    "    global robot\n",
    "    if sys.platform.startswith('win'):\n",
    "        ports = ['COM%s' % i for i in range(1,255)] # 1~257\n",
    "    elif sys.platform.startswith('linux') or sys.platform.startswith('cygwin'):\n",
    "        # this excludes your current terminal \"/dev/tty\"\n",
    "        ports = glob.glob('/dev/tty[A-Za-z]*')\n",
    "    elif sys.platform.startswith('darwin'):\n",
    "        ports = glob.glob('/dev/tty.*')\n",
    "    else:\n",
    "        raise EnvironmentError('Unsupported platform')\n",
    "    for port in ports:\n",
    "        try:\n",
    "            robot = serial.Serial(port, baudrate=115200, timeout=0.01, write_timeout=0.01)\n",
    "            robot.write(STX)\n",
    "            reply = mbed.read()\n",
    "            if reply != ACK:\n",
    "                robot = serial.Serial()\n",
    "            elif reply == ACK:\n",
    "                print('serial found')\n",
    "                robot.timeout=30\n",
    "                return 1\n",
    "        except (OSError, serial.SerialException):\n",
    "            robot = serial.Serial()\n",
    "    return 0"
   ]
  },
  {
   "cell_type": "code",
   "execution_count": null,
   "metadata": {},
   "outputs": [],
   "source": [
    "\n",
    "while True:\n",
    "    if not robot.isOpen():\n",
    "        autoSerial()\n",
    "        print(robot)\n",
    "        if not robot.isOpen():\n",
    "            print(\"Failed to open serial\")\n",
    "            break\n",
    "    print(robot.readline())"
   ]
  }
 ]
}