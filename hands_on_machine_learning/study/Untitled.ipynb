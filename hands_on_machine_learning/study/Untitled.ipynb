{
 "cells": [
  {
   "cell_type": "markdown",
   "id": "affected-meeting",
   "metadata": {},
   "source": [
    "# Markov Decision Process\n",
    "### - 마르코프 결정 과정"
   ]
  },
  {
   "cell_type": "code",
   "execution_count": null,
   "id": "equivalent-preservation",
   "metadata": {},
   "outputs": [],
   "source": []
  }
 ],
 "metadata": {
  "kernelspec": {
   "display_name": "Python 3",
   "language": "python",
   "name": "python3"
  },
  "language_info": {
   "codemirror_mode": {
    "name": "ipython",
    "version": 3
   },
   "file_extension": ".py",
   "mimetype": "text/x-python",
   "name": "python",
   "nbconvert_exporter": "python",
   "pygments_lexer": "ipython3",
   "version": "3.8.5"
  }
 },
 "nbformat": 4,
 "nbformat_minor": 5
}
