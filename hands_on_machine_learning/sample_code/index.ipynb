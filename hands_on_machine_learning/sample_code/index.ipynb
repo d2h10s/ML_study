{
 "cells": [
  {
   "cell_type": "markdown",
   "metadata": {},
   "source": [
    "# 핸즈온 머신러닝 2 노트북\n",
    "\n",
    "*핸즈온 머신러닝2에 오신 것을 환영합니다!*\n",
    "\n",
    "[필요한 기술](#Prerequisites) (아래 참조)\n",
    "\n",
    "## 노트북\n",
    "1. [한눈에 보는 머신러닝](01_the_machine_learning_landscape.ipynb)\n",
    "2. [머신러닝 프로젝트 처음부터 끝까지](02_end_to_end_machine_learning_project.ipynb)\n",
    "3. [분류](03_classification.ipynb)\n",
    "4. [모델 훈련](04_training_linear_models.ipynb)\n",
    "5. [서포트 벡터 머신](05_support_vector_machines.ipynb)\n",
    "6. [결정 트리](06_decision_trees.ipynb)\n",
    "7. [앙상블 학습과 랜덤 포레스트](07_ensemble_learning_and_random_forests.ipynb)\n",
    "8. [차원 축소](08_dimensionality_reduction.ipynb)\n",
    "9. [비지도 학습](09_unsupervised_learning.ipynb)\n",
    "10. [케라스를 사용한 인공 신경망 소개](10_neural_nets_with_keras.ipynb)\n",
    "11. [심층 신경망 훈련하기](11_training_deep_neural_networks.ipynb)\n",
    "12. [텐서플로를 사용한 사용자 정의 모델과 훈련](12_custom_models_and_training_with_tensorflow.ipynb)\n",
    "13. [텐서플로에서 데이터 적재와 전처리하기](13_loading_and_preprocessing_data.ipynb)\n",
    "14. [합성곱 신경망을 사용한 컴퓨터 비전](14_deep_computer_vision_with_cnns.ipynb)\n",
    "15. [RNN과 CNN을 사용해 시퀀스 처리하기](15_processing_sequences_using_rnns_and_cnns.ipynb)\n",
    "16. [RNN과 어텐션을 사용한 자연어 처리](16_nlp_with_rnns_and_attention.ipynb)\n",
    "17. [오토인코더와 GAN을 사용한 표현 학습과 생성적 학습](17_autoencoders.ipynb)\n",
    "18. [강화 학습](18_reinforcement_learning.ipynb)\n",
    "19. [대규모 텐서플로 모델 훈련과 배포](19_training_and_deploying_at_scale.ipynb)\n",
    "\n",
    "## 과학 파이썬 튜토리얼\n",
    "* [넘파이](tools_numpy.ipynb)\n",
    "* [맷플롯립](tools_matplotlib.ipynb) - 번역: [박찬성](https://github.com/deep-diver)\n",
    "* [판다스](tools_pandas.ipynb)\n",
    "\n",
    "## 수학 튜토리얼\n",
    "* [선형 대수](math_linear_algebra.ipynb)\n",
    "* [미분](math_differential_calculus.ipynb)\n",
    "\n",
    "## 부록\n",
    "* [자동 미분](extra_autodiff.ipynb)\n",
    "\n",
    "## 그외\n",
    "* [수식](book_equations.pdf) (이 책에 실린 수식 목록)\n"
   ]
  },
  {
   "cell_type": "markdown",
   "metadata": {
    "collapsed": true
   },
   "source": [
    "## 필요한 기술\n",
    "\n",
    "### 이해를 하려면\n",
    "\n",
    "* **파이썬** – 파이썬 전문가일 필요는 없지만 기초는 알고 있어야 합니다. 파이썬에 대해 잘 모른다면 공식 [파이썬 튜토리얼](https://docs.python.org/3/tutorial/)로 시작해 보세요.\n",
    "* **과학 파이썬** – 넘파이, 맷플롯립, 판다스 같은 유명한 파이썬 라이브러리를 사용합니다. 이런 라이브러에 친숙하지 않다면 '과학 파이썬 튜토리얼' 섹션에 나열된 튜토리얼을 참고하세요(특히 넘파이).\n",
    "* **수학** – 이 책은 선형 대수, 미분, 통계, 확률 이론을 사용합니다. 난이도가 높지 않으므로 이전에 배운적이 있다면 잘 따라 갈 수 있을 것입니다. 하지만 이런 수학을 잘 모르거나 배운 것을 다시 정리하고 싶다면 '수학 튜토리얼' 섹션을 참고하세요.\n",
    "\n",
    "### 예제를 실행하려면\n",
    "\n",
    "* **주피터** – 이 노트북은 주피터 노트북입니다. 바인더, 딥노트, 코랩과 같은 호스팅 플랫폼을 사용해 한 번의 클릭으로 노트북을 실행할 수 있습니다(설치가 필요 없습니다). 또는 Jupyter.org의 뷰어로 노트북을 보거나 원한다면 자신의 컴퓨터에 모두 설치할 수도 있습니다. 자세한 내용은 [깃허브](https://github.com/rickiepark/handson-ml2/)를 참고하세요."
   ]
  }
 ],
 "metadata": {
  "kernelspec": {
   "display_name": "Python 3",
   "language": "python",
   "name": "python3"
  },
  "language_info": {
   "codemirror_mode": {
    "name": "ipython",
    "version": 3
   },
   "file_extension": ".py",
   "mimetype": "text/x-python",
   "name": "python",
   "nbconvert_exporter": "python",
   "pygments_lexer": "ipython3",
   "version": "3.7.6"
  },
  "nav_menu": {},
  "toc": {
   "navigate_menu": true,
   "number_sections": true,
   "sideBar": true,
   "threshold": 6,
   "toc_cell": false,
   "toc_section_display": "block",
   "toc_window_display": false
  }
 },
 "nbformat": 4,
 "nbformat_minor": 1
}
