{
 "cells": [
  {
   "cell_type": "code",
   "execution_count": 34,
   "id": "warming-partition",
   "metadata": {},
   "outputs": [
    {
     "name": "stdout",
     "output_type": "stream",
     "text": [
      "[1, 2, 3, 4]\n",
      "[1, 2, 4]\n"
     ]
    }
   ],
   "source": [
    "a = [1,2,3,4]\n",
    "b = a.copy()\n",
    "b.remove(3)\n",
    "print(a)\n",
    "print(b)"
   ]
  },
  {
   "cell_type": "code",
   "execution_count": 35,
   "id": "injured-stack",
   "metadata": {},
   "outputs": [],
   "source": [
    "import pandas_datareader as pdr\n",
    "from datetime import datetime\n",
    "import matplotlib.pyplot as plt"
   ]
  },
  {
   "cell_type": "code",
   "execution_count": 36,
   "id": "cognitive-imaging",
   "metadata": {},
   "outputs": [],
   "source": [
    "start_day = datetime(2019, 1, 1)\n",
    "#end_day = datetime.now().date()\n",
    "end_day = datetime(2020, 12, 31)\n",
    "company_code = '005930.KS' # KS: kospi\n",
    "\n",
    "df = pdr.data.get_data_yahoo(company_code, start_day, end_day)"
   ]
  },
  {
   "cell_type": "code",
   "execution_count": 37,
   "id": "descending-catalog",
   "metadata": {},
   "outputs": [
    {
     "name": "stdout",
     "output_type": "stream",
     "text": [
      "               High           Low          Open         Close        Volume  \\\n",
      "count    493.000000    493.000000    493.000000    493.000000  4.930000e+02   \n",
      "mean   52429.817444  51330.223124  51875.456389  51895.131846  1.635268e+07   \n",
      "std     7835.434118   7645.775000   7696.538397   7759.467508  8.946890e+06   \n",
      "min    37600.000000  36850.000000  37450.000000  37450.000000  0.000000e+00   \n",
      "25%    46350.000000  45350.000000  45950.000000  45850.000000  9.739982e+06   \n",
      "50%    50900.000000  49900.000000  50300.000000  50300.000000  1.442888e+07   \n",
      "75%    57600.000000  56300.000000  57000.000000  56800.000000  2.022328e+07   \n",
      "max    81300.000000  78200.000000  79000.000000  81000.000000  5.946293e+07   \n",
      "\n",
      "          Adj Close  \n",
      "count    493.000000  \n",
      "mean   49556.823529  \n",
      "std     8117.873112  \n",
      "min    34769.980469  \n",
      "25%    42893.804688  \n",
      "50%    48056.101562  \n",
      "75%    54776.023438  \n",
      "max    81000.000000  \n"
     ]
    },
    {
     "data": {
      "text/plain": [
       "<AxesSubplot:xlabel='Date'>"
      ]
     },
     "execution_count": 37,
     "metadata": {},
     "output_type": "execute_result"
    },
    {
     "data": {
      "image/png": "[encoded data removed]",
      "text/plain": [
       "<Figure size 432x288 with 1 Axes>"
      ]
     },
     "metadata": {
      "needs_background": "dark"
     },
     "output_type": "display_data"
    }
   ],
   "source": [
    "print(df.describe())\n",
    "df['Close'].plot()\n",
    "#plt.show()"
   ]
  },
  {
   "cell_type": "code",
   "execution_count": 38,
   "id": "sublime-frame",
   "metadata": {},
   "outputs": [
    {
     "data": {
      "text/plain": [
       "['High', 'Low', 'Open', 'Close', 'Volume', 'Adj Close']"
      ]
     },
     "execution_count": 38,
     "metadata": {},
     "output_type": "execute_result"
    }
   ],
   "source": [
    "list(df.keys())"
   ]
  },
  {
   "cell_type": "code",
   "execution_count": 42,
   "id": "greenhouse-contamination",
   "metadata": {},
   "outputs": [
    {
     "name": "stdout",
     "output_type": "stream",
     "text": [
      "dict_keys(['date', 'High', 'Low', 'Open', 'Close', 'Volume', 'Adj Close'])\n"
     ]
    }
   ],
   "source": [
    "data = {}\n",
    "data['date'] = list(df.index.values)\n",
    "for key in df.keys():\n",
    "    data[key] = list(df[key].values)\n",
    "print(data.keys())"
   ]
  },
  {
   "cell_type": "markdown",
   "id": "impressed-argument",
   "metadata": {},
   "source": [
    "# 전략 1\n",
    "### 매주 1주씩 매수"
   ]
  },
  {
   "cell_type": "code",
   "execution_count": 45,
   "id": "korean-consumption",
   "metadata": {},
   "outputs": [
    {
     "name": "stdout",
     "output_type": "stream",
     "text": [
      "주식 총 가치 : 39933000원\n",
      "총 비용 : 25847900원\n",
      "수익률  : 54.49%%\n",
      "\n"
     ]
    }
   ],
   "source": [
    "num_stock = 0 # 구매한 주식의 개수\n",
    "cost = 0 # 주식 구매에 든 총 비용\n",
    "stock_value = 0  # 구매한 주식의 총 가치\n",
    "\n",
    "for high in data['High']:\n",
    "    num_stock += 1\n",
    "    cost += high # 고가에 샀다고 가정\n",
    "stock_value = num_stock * data['Close'][-1]\n",
    "\n",
    "print(\"\"\"주식 총 가치 : {:0.0f}원\n",
    "총 비용 : {:0.0f}원\n",
    "수익률  : {:0.2f}%%\n",
    "\"\"\".format(stock_value, cost, 100 * stock_value / cost - 100))"
   ]
  },
  {
   "cell_type": "markdown",
   "id": "modified-cycling",
   "metadata": {},
   "source": [
    "# 전략 2\n",
    "### 매주 1주씩 매입하고 평균단가 이하이면 2주, 평균단가 초과면 1주 매입"
   ]
  },
  {
   "cell_type": "code",
   "execution_count": 48,
   "id": "fifty-cleanup",
   "metadata": {},
   "outputs": [
    {
     "name": "stdout",
     "output_type": "stream",
     "text": [
      "주식 총 가치 : 47061000원\n",
      "총 비용 : 29783000원\n",
      "수익률  : 58.01%%\n",
      "\n"
     ]
    }
   ],
   "source": [
    "num_stock = 0 # 구매한 주식의 개수\n",
    "cost = 0 # 주식 구매에 든 총 비용\n",
    "stock_value = 0  # 구매한 주식의 총 가치\n",
    "mean_cost = 0\n",
    "\n",
    "for i in range(len(data['date'])):\n",
    "    if i == 0 or mean_cost < data['Low'][i]:\n",
    "        num_stock += 1\n",
    "        cost += data['High'][i]\n",
    "    else:\n",
    "        num_stock += 2\n",
    "        cost += 2 * data['High'][i]\n",
    "    mean_cost = cost / num_stock\n",
    "stock_value = num_stock * data['Close'][i]\n",
    "\n",
    "print(\"\"\"주식 총 가치 : {:0.0f}원\n",
    "총 비용 : {:0.0f}원\n",
    "수익률  : {:0.2f}%%\n",
    "\"\"\".format(stock_value, cost, 100 * stock_value / cost - 100))"
   ]
  },
  {
   "cell_type": "markdown",
   "id": "wrong-appointment",
   "metadata": {},
   "source": [
    "# 전략 3\n",
    "### 매주 10만원씩 매수"
   ]
  },
  {
   "cell_type": "code",
   "execution_count": 50,
   "id": "alternative-salad",
   "metadata": {},
   "outputs": [
    {
     "name": "stdout",
     "output_type": "stream",
     "text": [
      "주식 총 가치 : 77679000원\n",
      "총 비용 : 49279650원\n",
      "수익률  : 57.63%%\n",
      "\n"
     ]
    }
   ],
   "source": [
    "num_stock = 0 # 구매한 주식의 개수\n",
    "cash = int(1e5)\n",
    "cost = 0 # 주식 구매에 든 총 비용\n",
    "stock_value = 0  # 구매한 주식의 총 가치\n",
    "\n",
    "for i in range(len(data['date'])):\n",
    "    num_buy = cash//data['High'][i]\n",
    "    num_stock += num_buy\n",
    "    current_price = data['High'][i]\n",
    "    cost += num_buy * current_price\n",
    "    cash += int(1e5) - num_buy * current_price\n",
    "stock_value = num_stock * data['Close'][i]\n",
    "\n",
    "print(\"\"\"주식 총 가치 : {:0.0f}원\n",
    "총 비용 : {:0.0f}원\n",
    "수익률  : {:0.2f}%%\n",
    "\"\"\".format(stock_value, cost, 100 * stock_value / cost - 100))"
   ]
  }
 ],
 "metadata": {
  "kernelspec": {
   "display_name": "Python 3",
   "language": "python",
   "name": "python3"
  },
  "language_info": {
   "codemirror_mode": {
    "name": "ipython",
    "version": 3
   },
   "file_extension": ".py",
   "mimetype": "text/x-python",
   "name": "python",
   "nbconvert_exporter": "python",
   "pygments_lexer": "ipython3",
   "version": "3.8.8"
  }
 },
 "nbformat": 4,
 "nbformat_minor": 5
}
