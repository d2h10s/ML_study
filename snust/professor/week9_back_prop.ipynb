{
 "cells": [
  {
   "cell_type": "code",
   "execution_count": 1,
   "id": "regional-denver",
   "metadata": {},
   "outputs": [],
   "source": [
    "import numpy as np\n",
    "import matplotlib.pyplot as plt"
   ]
  },
  {
   "cell_type": "code",
   "execution_count": 2,
   "id": "lonely-territory",
   "metadata": {},
   "outputs": [],
   "source": [
    "class Affine:\n",
    "    def __init__(self, input_dim, output_dim): #편향은 인풋에는 미포함 \n",
    "        self.input_dim = input_dim\n",
    "        self.output_dim = output_dim \n",
    "        self.W = np.random.randn(self.input_dim+1, self.output_dim)*0.01 #표준편차 0.01인 정규분포로 초기화\n",
    "        self.dW = None # 가중치 업데이트를 위한 텀 \n",
    "        \n",
    "    def forward(self, x): # numpy 1차원 배열 혹은 1행 행렬을 입력으로 받음\n",
    "        self.x = np.array( [1]+list(x.reshape(-1))).reshape(1,-1) # 편향을 위한 1을 삽입하고 행렬로 변환\n",
    "        return np.dot(self.x, self.W)\n",
    "    \n",
    "    def backward(self, dout): #dout = dL/dY\n",
    "        self.dW = np.dot(self.x.T, dout) #가중치 편미분\n",
    "        dX = np.dot(dout, self.W.T) #입력데이터 편미분\n",
    "        return dX[:,1:]\n",
    "        "
   ]
  },
  {
   "cell_type": "code",
   "execution_count": 3,
   "id": "adverse-bulletin",
   "metadata": {},
   "outputs": [],
   "source": [
    "fc1 = Affine(3, 10)"
   ]
  },
  {
   "cell_type": "code",
   "execution_count": 4,
   "id": "threaded-temple",
   "metadata": {},
   "outputs": [
    {
     "data": {
      "text/plain": [
       "array([[-0.03357286,  0.00180713,  0.01083531,  0.03140882, -0.01583786,\n",
       "        -0.00381434,  0.00732589,  0.00998906, -0.00813555,  0.02102911]])"
      ]
     },
     "execution_count": 4,
     "metadata": {},
     "output_type": "execute_result"
    }
   ],
   "source": [
    "x = np.array([[1,1,1]])\n",
    "fc1.forward(x)"
   ]
  },
  {
   "cell_type": "code",
   "execution_count": 5,
   "id": "billion-lease",
   "metadata": {},
   "outputs": [],
   "source": [
    "class mse_loss_layer:\n",
    "    def __init__(self):\n",
    "        self.y, self.t = None, None\n",
    "        self.dW = None # 가중치 업데이트를 위한 텀.\n",
    "        pass\n",
    "    \n",
    "    def loss(self, y, t): #t : target value\n",
    "        self.y = y\n",
    "        self.t = t\n",
    "        return np.sum((y-t)**2)\n",
    "    \n",
    "    def backward(self):\n",
    "        return self.y - self.t"
   ]
  },
  {
   "cell_type": "code",
   "execution_count": 6,
   "id": "olive-guinea",
   "metadata": {},
   "outputs": [
    {
     "data": {
      "text/plain": [
       "(25, 2)"
      ]
     },
     "execution_count": 6,
     "metadata": {},
     "output_type": "execute_result"
    }
   ],
   "source": [
    "data = np.load('lr_data.npy')\n",
    "data.shape"
   ]
  },
  {
   "cell_type": "code",
   "execution_count": 7,
   "id": "prospective-captain",
   "metadata": {},
   "outputs": [
    {
     "data": {
      "image/png": "[encoded data removed]",
      "text/plain": [
       "<Figure size 432x288 with 1 Axes>"
      ]
     },
     "metadata": {
      "needs_background": "light"
     },
     "output_type": "display_data"
    }
   ],
   "source": [
    "xdata = data[:,0]\n",
    "ydata = data[:,1]\n",
    "plt.plot(xdata,ydata,'k*')\n",
    "plt.show()"
   ]
  },
  {
   "cell_type": "code",
   "execution_count": 8,
   "id": "persistent-tourist",
   "metadata": {},
   "outputs": [],
   "source": [
    "class one_layer_reg:\n",
    "    def __init__(self, input_dim, output_dim):\n",
    "        self.fc1 = Affine(input_dim, output_dim)\n",
    "        self.mse_loss = mse_loss_layer()\n",
    "        self.layers = [self.fc1, self.mse_loss]\n",
    "        pass\n",
    "    \n",
    "    def forward(self, x):\n",
    "        return self.fc1.forward(x)"
   ]
  },
  {
   "cell_type": "code",
   "execution_count": 9,
   "id": "retired-attack",
   "metadata": {},
   "outputs": [],
   "source": [
    "test1 = one_layer_reg(1,1)"
   ]
  },
  {
   "cell_type": "code",
   "execution_count": 10,
   "id": "recognized-intent",
   "metadata": {},
   "outputs": [
    {
     "data": {
      "image/png": "[encoded data removed]",
      "text/plain": [
       "<Figure size 432x288 with 1 Axes>"
      ]
     },
     "metadata": {
      "needs_background": "light"
     },
     "output_type": "display_data"
    }
   ],
   "source": [
    "pred_y =[test1.forward(np.array([x])) for x in np.arange(0,10,0.1)]\n",
    "pred_y =np.array(pred_y).reshape(-1)\n",
    "plt.plot(np.arange(0,10,0.1), pred_y, 'r-')\n",
    "plt.plot(xdata, ydata, 'k*')\n",
    "plt.show()"
   ]
  },
  {
   "cell_type": "code",
   "execution_count": 11,
   "id": "functioning-spare",
   "metadata": {},
   "outputs": [],
   "source": [
    "class trainer:\n",
    "    def __init__(self, net, lr, xdata, ydata): #네트워크, 학습율, 인풋데이타, 정답데이터 \n",
    "        self.net = net\n",
    "        self.lr = lr\n",
    "        self.xdata = xdata\n",
    "        self.ydata = ydata\n",
    "        self.loss_history =[]\n",
    "        pass\n",
    "    \n",
    "    def loss(self):\n",
    "        a = 0\n",
    "        for x,y in zip(self.xdata,self.ydata):\n",
    "            a+=self.net.layers[-1].loss(self.net.forward(x),y)\n",
    "        return a\n",
    "    \n",
    "    def grad(self, x, t):\n",
    "        y = self.net.forward(x)\n",
    "        self.net.layers[-1].loss(y, t)\n",
    "        dout = self.net.layers[-1].backward()\n",
    "        for layer in self.net.layers[::-1][1:]:\n",
    "            dout = layer.backward(dout)\n",
    "        grads = [a.dW if type(a.dW) != type(None) else 0 for a in self.net.layers]\n",
    "        return grads\n",
    "    \n",
    "    def update(self, num_epoch):\n",
    "        for _ in range(num_epoch):\n",
    "            self.loss_history.append(self.loss())\n",
    "            grads =[ np.zeros_like(a.dW) if type(a.dW) != type(None) \\\n",
    "                    else 0 for a in self.net.layers]\n",
    "            \n",
    "            for x,y in zip(self.xdata,self.ydata):\n",
    "                temp = self.grad(x,y)\n",
    "                grads = [dw+dwi for dw,dwi in zip(grads,temp)]\n",
    "            \n",
    "            for i, dw in enumerate(grads):\n",
    "                if type(dw) != int:\n",
    "                    self.net.layers[i].W -= self.lr * dw\n",
    "        \n",
    "        plt.plot(self.loss_history,'k-')\n",
    "        return plt.show()\n",
    "                    \n",
    "            "
   ]
  },
  {
   "cell_type": "code",
   "execution_count": 12,
   "id": "stuck-resistance",
   "metadata": {},
   "outputs": [
    {
     "name": "stdout",
     "output_type": "stream",
     "text": [
      "(25, 1)\n",
      "(25, 1)\n"
     ]
    }
   ],
   "source": [
    "train_x = np.array([np.array([x]) for x in xdata])\n",
    "train_y = np.array([np.array([y]) for y in ydata])\n",
    "print(train_x.shape)\n",
    "print(train_y.shape)"
   ]
  },
  {
   "cell_type": "code",
   "execution_count": 13,
   "id": "closed-paste",
   "metadata": {},
   "outputs": [],
   "source": [
    "tt = trainer(test1, 0.001, train_x, train_y)"
   ]
  },
  {
   "cell_type": "code",
   "execution_count": 14,
   "id": "continuous-missouri",
   "metadata": {},
   "outputs": [
    {
     "data": {
      "text/plain": [
       "899.4967773205472"
      ]
     },
     "execution_count": 14,
     "metadata": {},
     "output_type": "execute_result"
    }
   ],
   "source": [
    "tt.loss()"
   ]
  },
  {
   "cell_type": "code",
   "execution_count": 15,
   "id": "french-madness",
   "metadata": {
    "scrolled": true
   },
   "outputs": [
    {
     "data": {
      "image/png": "[encoded data removed]",
      "text/plain": [
       "<Figure size 432x288 with 1 Axes>"
      ]
     },
     "metadata": {
      "needs_background": "light"
     },
     "output_type": "display_data"
    }
   ],
   "source": [
    "tt.update(20)"
   ]
  },
  {
   "cell_type": "code",
   "execution_count": 16,
   "id": "athletic-bahamas",
   "metadata": {},
   "outputs": [
    {
     "data": {
      "image/png": "[encoded data removed]",
      "text/plain": [
       "<Figure size 432x288 with 1 Axes>"
      ]
     },
     "metadata": {
      "needs_background": "light"
     },
     "output_type": "display_data"
    }
   ],
   "source": [
    "pred_y =[test1.forward(np.array([x])) for x in np.arange(0,10,0.1)]\n",
    "pred_y =np.array(pred_y).reshape(-1)\n",
    "plt.plot(np.arange(0,10,0.1), pred_y, 'r-')\n",
    "plt.plot(xdata, ydata, 'k*')\n",
    "plt.show()"
   ]
  },
  {
   "cell_type": "code",
   "execution_count": 17,
   "id": "complex-perth",
   "metadata": {},
   "outputs": [
    {
     "data": {
      "text/plain": [
       "(100, 3)"
      ]
     },
     "execution_count": 17,
     "metadata": {},
     "output_type": "execute_result"
    }
   ],
   "source": [
    "# 스탠포드대학교 cs231n의 분류 예시 데이터를 약간 변형해서 만들어진 데이터.\n",
    "c2_data = np.load('2class_data.npy')\n",
    "c2_data.shape"
   ]
  },
  {
   "cell_type": "code",
   "execution_count": 18,
   "id": "invisible-fancy",
   "metadata": {},
   "outputs": [
    {
     "data": {
      "text/plain": [
       "array([0.14294951, 0.14565284, 0.        ])"
      ]
     },
     "execution_count": 18,
     "metadata": {},
     "output_type": "execute_result"
    }
   ],
   "source": [
    "c2_data[10]"
   ]
  },
  {
   "cell_type": "code",
   "execution_count": 19,
   "id": "american-integrity",
   "metadata": {},
   "outputs": [],
   "source": [
    "p_data = c2_data[:,:2] # 위치데이터\n",
    "c_data = c2_data[:,2]  # class 데이터 "
   ]
  },
  {
   "cell_type": "code",
   "execution_count": 20,
   "id": "collaborative-extent",
   "metadata": {},
   "outputs": [
    {
     "data": {
      "image/png": "[encoded data removed]",
      "text/plain": [
       "<Figure size 432x288 with 1 Axes>"
      ]
     },
     "metadata": {
      "needs_background": "light"
     },
     "output_type": "display_data"
    }
   ],
   "source": [
    "plt.scatter(p_data[:, 0], p_data[:, 1], c=c_data, s=40, cmap=plt.cm.rainbow)\n",
    "plt.show()"
   ]
  },
  {
   "cell_type": "code",
   "execution_count": 21,
   "id": "personalized-truck",
   "metadata": {},
   "outputs": [],
   "source": [
    "class Relu:\n",
    "    def __init__(self):\n",
    "        self.mask = None # < 0 컨디션 만족여부 저장용\n",
    "        self.dW = None # 가중치 업데이트를 위한 텀.\n",
    "        pass\n",
    "    \n",
    "    def forward(self, x):\n",
    "        self.mask = ( x < 0 ) \n",
    "        x[self.mask] = 0\n",
    "        return x \n",
    "    \n",
    "    def backward(self, dout):\n",
    "        dout[self.mask ] =0\n",
    "        return dout"
   ]
  },
  {
   "cell_type": "code",
   "execution_count": 22,
   "id": "decent-attachment",
   "metadata": {},
   "outputs": [],
   "source": [
    "act = Relu()"
   ]
  },
  {
   "cell_type": "code",
   "execution_count": 23,
   "id": "greatest-government",
   "metadata": {},
   "outputs": [
    {
     "data": {
      "text/plain": [
       "array([1, 0, 1, 1])"
      ]
     },
     "execution_count": 23,
     "metadata": {},
     "output_type": "execute_result"
    }
   ],
   "source": [
    "act.forward(np.array([1,-1,1,1]))"
   ]
  },
  {
   "cell_type": "code",
   "execution_count": 24,
   "id": "celtic-adelaide",
   "metadata": {},
   "outputs": [
    {
     "data": {
      "text/plain": [
       "array([False,  True, False, False])"
      ]
     },
     "execution_count": 24,
     "metadata": {},
     "output_type": "execute_result"
    }
   ],
   "source": [
    "act.mask"
   ]
  },
  {
   "cell_type": "code",
   "execution_count": 25,
   "id": "married-hometown",
   "metadata": {},
   "outputs": [],
   "source": [
    "class Softmax:\n",
    "    def __init__(self):\n",
    "        self.dW = None\n",
    "        pass\n",
    "    \n",
    "    def forward(self, x):\n",
    "        x = x - np.max(x)\n",
    "        out = np.exp(x)\n",
    "        out /= np.sum(out)\n",
    "        return out\n",
    "    \n",
    "    def backward(self, dout): #coding 편의를 위해 loss 클래스에서 한꺼번에 계산예정\n",
    "        return dout\n",
    "        "
   ]
  },
  {
   "cell_type": "code",
   "execution_count": 26,
   "id": "medium-rwanda",
   "metadata": {},
   "outputs": [],
   "source": [
    "sm = Softmax()"
   ]
  },
  {
   "cell_type": "code",
   "execution_count": 27,
   "id": "monetary-pantyhose",
   "metadata": {},
   "outputs": [
    {
     "data": {
      "text/plain": [
       "array([9.93284608e-01, 1.65895423e-05, 6.10295156e-06, 6.69269905e-03])"
      ]
     },
     "execution_count": 27,
     "metadata": {},
     "output_type": "execute_result"
    }
   ],
   "source": [
    "sm.forward(np.array([10,-1,-2,5]))"
   ]
  },
  {
   "cell_type": "code",
   "execution_count": 28,
   "id": "attended-boring",
   "metadata": {},
   "outputs": [],
   "source": [
    "class Cross_entropy_loss:\n",
    "    def __init__(self):\n",
    "        self.y, self.t = None, None\n",
    "        self.dW = None\n",
    "        pass\n",
    "    \n",
    "    def loss(self, y, t):\n",
    "        self.y, self.t = y, t\n",
    "        loss = -np.log(y[:,np.argmax(t)]+1e-8)\n",
    "        return loss\n",
    "    \n",
    "    def backward(self):\n",
    "        return self.y - self.t"
   ]
  },
  {
   "cell_type": "code",
   "execution_count": 29,
   "id": "touched-proof",
   "metadata": {},
   "outputs": [],
   "source": [
    "class one_layer_cfn:\n",
    "    def __init__(self):\n",
    "        self.fc1 = Affine(2, 2)\n",
    "        self.sm = Softmax()\n",
    "        self.ce_loss = Cross_entropy_loss()\n",
    "        self.layers = [self.fc1, self.sm, self.ce_loss]\n",
    "        pass\n",
    "    \n",
    "    def forward(self, x):\n",
    "        for layer in self.layers[:-1]:\n",
    "            x = layer.forward(x)\n",
    "        return x\n",
    "        \n",
    "\n",
    "    def predict(self, x):\n",
    "        return np.argmax(self.forward(x))\n",
    "    \n",
    "    def accuracy(self, xdata, ydata):\n",
    "        cnt = 0\n",
    "        for x, t in zip(xdata, ydata):\n",
    "            if self.predict(x) == np.argmax(t):\n",
    "                cnt +=1\n",
    "        ratio = 100*cnt / xdata.shape[0]\n",
    "        print(\"분류 성공율: %.2f%%\" %ratio)\n",
    "        pass"
   ]
  },
  {
   "cell_type": "code",
   "execution_count": 32,
   "id": "practical-return",
   "metadata": {},
   "outputs": [
    {
     "data": {
      "text/plain": [
       "(2,)"
      ]
     },
     "execution_count": 32,
     "metadata": {},
     "output_type": "execute_result"
    }
   ],
   "source": [
    "train_x = p_data[:]\n",
    "train_y = np.zeros([train_x.shape[0], 2])\n",
    "for i, item in enumerate(train_y):\n",
    "    item[int(c_data[i])] = 1.\n",
    "train_y = np.array([ [y] for y in train_y])\n",
    "train_x[0].shape"
   ]
  },
  {
   "cell_type": "code",
   "execution_count": 33,
   "id": "baking-algebra",
   "metadata": {},
   "outputs": [],
   "source": [
    "test2 = one_layer_cfn()"
   ]
  },
  {
   "cell_type": "code",
   "execution_count": 34,
   "id": "horizontal-understanding",
   "metadata": {},
   "outputs": [
    {
     "name": "stdout",
     "output_type": "stream",
     "text": [
      "분류 성공율: 65.00%\n"
     ]
    }
   ],
   "source": [
    "test2.accuracy(train_x, train_y)"
   ]
  },
  {
   "cell_type": "code",
   "execution_count": 35,
   "id": "single-sound",
   "metadata": {},
   "outputs": [],
   "source": [
    "tt2 = trainer(test2, 1e-3, train_x, train_y)"
   ]
  },
  {
   "cell_type": "code",
   "execution_count": 36,
   "id": "universal-artist",
   "metadata": {},
   "outputs": [
    {
     "data": {
      "image/png": "[encoded data removed]",
      "text/plain": [
       "<Figure size 432x288 with 1 Axes>"
      ]
     },
     "metadata": {
      "needs_background": "light"
     },
     "output_type": "display_data"
    }
   ],
   "source": [
    "tt2.update(100)"
   ]
  },
  {
   "cell_type": "code",
   "execution_count": 37,
   "id": "exotic-sunday",
   "metadata": {},
   "outputs": [
    {
     "name": "stdout",
     "output_type": "stream",
     "text": [
      "분류 성공율: 74.00%\n"
     ]
    }
   ],
   "source": [
    "tt2.net.accuracy(train_x, train_y)"
   ]
  },
  {
   "cell_type": "code",
   "execution_count": 38,
   "id": "everyday-production",
   "metadata": {},
   "outputs": [],
   "source": [
    "X, Y = np.meshgrid(np.linspace(-1,1,100), np.linspace(-1,1,100))"
   ]
  },
  {
   "cell_type": "code",
   "execution_count": 39,
   "id": "lucky-integration",
   "metadata": {},
   "outputs": [],
   "source": [
    "Z = [ tt2.net.predict(np.array([X[i,j], Y[i,j]])) for i in range(100) for j in range(100) ]\n",
    "Z = np.array(Z)\n",
    "Z = Z.reshape(100,100)"
   ]
  },
  {
   "cell_type": "code",
   "execution_count": 40,
   "id": "early-basis",
   "metadata": {},
   "outputs": [
    {
     "data": {
      "image/png": "[encoded data removed]",
      "text/plain": [
       "<Figure size 432x432 with 1 Axes>"
      ]
     },
     "metadata": {
      "needs_background": "light"
     },
     "output_type": "display_data"
    }
   ],
   "source": [
    "plt.figure(figsize=(6,6))\n",
    "plt.scatter(p_data[:, 0], p_data[:, 1], c=c_data, s=40, cmap=plt.cm.rainbow)\n",
    "plt.contourf(X,Y, Z, alpha=.7, cmap=plt.cm.rainbow)\n",
    "plt.show()"
   ]
  },
  {
   "cell_type": "code",
   "execution_count": 41,
   "id": "advised-partner",
   "metadata": {},
   "outputs": [],
   "source": [
    "class two_layer_cfn:\n",
    "    def __init__(self):\n",
    "        self.fc1 = Affine(2, 100)\n",
    "        self.fc1_act = Relu()\n",
    "        self.fc2 = Affine(100,2)\n",
    "        self.sm = Softmax()\n",
    "        self.ce_loss = Cross_entropy_loss()\n",
    "        self.layers = [self.fc1, self.fc1_act, self.fc2, self.sm, self.ce_loss]\n",
    "        pass\n",
    "    \n",
    "    def forward(self, x):\n",
    "        for layer in self.layers[:-1]:\n",
    "            x = layer.forward(x)\n",
    "        return x\n",
    "    \n",
    "    def predict(self, x):\n",
    "        return np.argmax(self.forward(x))\n",
    "    \n",
    "    def accuracy(self, xdata, ydata):\n",
    "        cnt = 0\n",
    "        for x, t in zip(xdata, ydata):\n",
    "            if self.predict(x) == np.argmax(t):\n",
    "                cnt +=1\n",
    "        ratio = 100*cnt / xdata.shape[0]\n",
    "        print(\"분류 성공율: %.2f%%\" %ratio)\n",
    "        pass"
   ]
  },
  {
   "cell_type": "code",
   "execution_count": 42,
   "id": "seventh-wesley",
   "metadata": {},
   "outputs": [],
   "source": [
    "test3 = two_layer_cfn()"
   ]
  },
  {
   "cell_type": "code",
   "execution_count": 43,
   "id": "third-cookbook",
   "metadata": {},
   "outputs": [],
   "source": [
    "tt3 = trainer(test3, 5e-3, train_x, train_y)"
   ]
  },
  {
   "cell_type": "code",
   "execution_count": 44,
   "id": "fourth-effect",
   "metadata": {},
   "outputs": [
    {
     "name": "stdout",
     "output_type": "stream",
     "text": [
      "분류 성공율: 50.00%\n"
     ]
    }
   ],
   "source": [
    "tt3.net.accuracy(train_x, train_y)"
   ]
  },
  {
   "cell_type": "code",
   "execution_count": 45,
   "id": "greenhouse-dakota",
   "metadata": {},
   "outputs": [
    {
     "data": {
      "image/png": "[encoded data removed]",
      "text/plain": [
       "<Figure size 432x288 with 1 Axes>"
      ]
     },
     "metadata": {
      "needs_background": "light"
     },
     "output_type": "display_data"
    }
   ],
   "source": [
    "tt3.update(1000)"
   ]
  },
  {
   "cell_type": "code",
   "execution_count": 46,
   "id": "innocent-category",
   "metadata": {},
   "outputs": [
    {
     "name": "stdout",
     "output_type": "stream",
     "text": [
      "분류 성공율: 91.00%\n"
     ]
    }
   ],
   "source": [
    "test3.accuracy(train_x,train_y)"
   ]
  },
  {
   "cell_type": "code",
   "execution_count": 47,
   "id": "confident-commonwealth",
   "metadata": {},
   "outputs": [],
   "source": [
    "Z = [ test3.predict(np.array([X[i,j], Y[i,j]])) for i in range(100) for j in range(100) ]\n",
    "Z = np.array(Z)\n",
    "Z = Z.reshape(100,100)"
   ]
  },
  {
   "cell_type": "code",
   "execution_count": 48,
   "id": "dense-pollution",
   "metadata": {},
   "outputs": [
    {
     "data": {
      "image/png": "[encoded data removed]",
      "text/plain": [
       "<Figure size 432x432 with 1 Axes>"
      ]
     },
     "metadata": {
      "needs_background": "light"
     },
     "output_type": "display_data"
    }
   ],
   "source": [
    "plt.figure(figsize=(6,6))\n",
    "plt.scatter(p_data[:, 0], p_data[:, 1], c=c_data, s=40, cmap=plt.cm.rainbow)\n",
    "plt.contourf(X,Y, Z, alpha=.7, cmap=plt.cm.rainbow)\n",
    "plt.show()"
   ]
  },
  {
   "cell_type": "code",
   "execution_count": 49,
   "id": "downtown-bosnia",
   "metadata": {},
   "outputs": [],
   "source": [
    "class three_layer_cfn:\n",
    "    def __init__(self):\n",
    "        self.fc1 = Affine(2, 100)\n",
    "        self.fc1_act = Relu()\n",
    "        self.fc2 = Affine(100,100)\n",
    "        self.fc2_act = Relu()\n",
    "        self.fc3 = Affine(100,2)\n",
    "        self.sm = Softmax()\n",
    "        self.ce_loss = Cross_entropy_loss()\n",
    "        self.layers = [self.fc1, self.fc1_act, self.fc2, self.fc2_act, self.fc3, self.sm, self.ce_loss]\n",
    "        pass\n",
    "    \n",
    "    def forward(self, x):\n",
    "        for layer in self.layers[:-1]:\n",
    "            x = layer.forward(x)\n",
    "        return x\n",
    "    \n",
    "    def predict(self, x):\n",
    "        return np.argmax(self.forward(x))\n",
    "    \n",
    "    def accuracy(self, xdata, ydata):\n",
    "        cnt = 0\n",
    "        for x, t in zip(xdata, ydata):\n",
    "            if self.predict(x) == np.argmax(t):\n",
    "                cnt +=1\n",
    "        ratio = 100*cnt / xdata.shape[0]\n",
    "        print(\"분류 성공율: %.2f%%\" %ratio)\n",
    "        pass"
   ]
  },
  {
   "cell_type": "code",
   "execution_count": 50,
   "id": "impressed-spelling",
   "metadata": {},
   "outputs": [],
   "source": [
    "tt4 = three_layer_cfn()"
   ]
  },
  {
   "cell_type": "code",
   "execution_count": 51,
   "id": "artificial-zimbabwe",
   "metadata": {},
   "outputs": [
    {
     "name": "stdout",
     "output_type": "stream",
     "text": [
      "분류 성공율: 50.00%\n"
     ]
    }
   ],
   "source": [
    "tt4.accuracy(train_x, train_y)"
   ]
  },
  {
   "cell_type": "code",
   "execution_count": 52,
   "id": "specific-polish",
   "metadata": {},
   "outputs": [],
   "source": [
    "test4 = trainer(tt4, 5e-3, train_x, train_y)"
   ]
  },
  {
   "cell_type": "code",
   "execution_count": 53,
   "id": "attractive-canada",
   "metadata": {},
   "outputs": [
    {
     "data": {
      "image/png": "[encoded data removed]",
      "text/plain": [
       "<Figure size 432x288 with 1 Axes>"
      ]
     },
     "metadata": {
      "needs_background": "light"
     },
     "output_type": "display_data"
    }
   ],
   "source": [
    "test4.update(1000)"
   ]
  },
  {
   "cell_type": "code",
   "execution_count": 54,
   "id": "metric-penguin",
   "metadata": {},
   "outputs": [
    {
     "name": "stdout",
     "output_type": "stream",
     "text": [
      "분류 성공율: 97.00%\n"
     ]
    }
   ],
   "source": [
    "tt4.accuracy(train_x,train_y)"
   ]
  },
  {
   "cell_type": "code",
   "execution_count": 55,
   "id": "threaded-vatican",
   "metadata": {},
   "outputs": [],
   "source": [
    "Z = [ test3.predict(np.array([X[i,j], Y[i,j]])) for i in range(100) for j in range(100) ]\n",
    "Z = np.array(Z)\n",
    "Z = Z.reshape(100,100)"
   ]
  },
  {
   "cell_type": "code",
   "execution_count": 56,
   "id": "lyric-circular",
   "metadata": {},
   "outputs": [
    {
     "data": {
      "image/png": "[encoded data removed]",
      "text/plain": [
       "<Figure size 432x432 with 1 Axes>"
      ]
     },
     "metadata": {
      "needs_background": "light"
     },
     "output_type": "display_data"
    }
   ],
   "source": [
    "plt.figure(figsize=(6,6))\n",
    "plt.scatter(p_data[:, 0], p_data[:, 1], c=c_data, s=40, cmap=plt.cm.rainbow)\n",
    "plt.contourf(X,Y, Z, alpha=.7, cmap=plt.cm.rainbow)\n",
    "plt.show()"
   ]
  },
  {
   "cell_type": "code",
   "execution_count": null,
   "id": "dangerous-virus",
   "metadata": {},
   "outputs": [],
   "source": []
  },
  {
   "cell_type": "code",
   "execution_count": null,
   "id": "surrounded-church",
   "metadata": {},
   "outputs": [],
   "source": []
  }
 ],
 "metadata": {
  "kernelspec": {
   "display_name": "Python 3",
   "language": "python",
   "name": "python3"
  },
  "language_info": {
   "codemirror_mode": {
    "name": "ipython",
    "version": 3
   },
   "file_extension": ".py",
   "mimetype": "text/x-python",
   "name": "python",
   "nbconvert_exporter": "python",
   "pygments_lexer": "ipython3",
   "version": "3.8.8"
  }
 },
 "nbformat": 4,
 "nbformat_minor": 5
}
