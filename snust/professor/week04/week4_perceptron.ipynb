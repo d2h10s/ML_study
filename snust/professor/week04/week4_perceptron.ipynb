{
 "cells": [
  {
   "cell_type": "code",
   "execution_count": 1,
   "id": "decent-judges",
   "metadata": {},
   "outputs": [],
   "source": [
    "import numpy as np\n",
    "import matplotlib.pyplot as plt\n",
    "import random"
   ]
  },
  {
   "cell_type": "code",
   "execution_count": 2,
   "id": "computational-alexandria",
   "metadata": {},
   "outputs": [],
   "source": [
    "# class 구조\n",
    "# class class_name:\n",
    "# ....statements"
   ]
  },
  {
   "cell_type": "code",
   "execution_count": 3,
   "id": "imperial-batch",
   "metadata": {},
   "outputs": [],
   "source": [
    "class account:\n",
    "    def __init__(self, name, initial_money):\n",
    "        self.name = name\n",
    "        self.transaction_history = [initial_money]\n",
    "        print(\"%s의 계좌가 %.2f원을 입금하여 개설되었습니다.\" %(self.name, self.transaction_history[-1]))\n",
    "        \n",
    "    def save_money(self, amount):\n",
    "        self.transaction_history += [self.transaction_history[-1] + amount]\n",
    "        print(\"%.2f원을 예금하여 총 자산은 %.2f원이 되었습니다. \"%(amount, self.transaction_history[-1]))\n",
    "        pass\n",
    "    \n",
    "    def status(self):\n",
    "        print(\"예금주 : %s   잔액 : %.2f\" %(self.name, self.transaction_history[-1]))\n",
    "        pass\n",
    "    \n",
    "    def withrow_money(self, amount):\n",
    "        self.transaction_history += [self.transaction_history[-1] - amount]\n",
    "        print(\"%.2f원을 인출하여 총 자산은 %.2f원이 되었습니다. \"%(amount, self.transaction_history[-1]))\n",
    "        pass\n",
    "        \n",
    "    def history(self):\n",
    "        plt.plot(self.transaction_history, 'k-')\n",
    "        return plt.show()"
   ]
  },
  {
   "cell_type": "code",
   "execution_count": 4,
   "id": "moved-stocks",
   "metadata": {},
   "outputs": [
    {
     "name": "stdout",
     "output_type": "stream",
     "text": [
      "홍두깨의 계좌가 10000.00원을 입금하여 개설되었습니다.\n"
     ]
    }
   ],
   "source": [
    "account1 = account('홍두깨', 10000)"
   ]
  },
  {
   "cell_type": "code",
   "execution_count": 5,
   "id": "falling-dragon",
   "metadata": {},
   "outputs": [
    {
     "name": "stdout",
     "output_type": "stream",
     "text": [
      "하니의 계좌가 6000.00원을 입금하여 개설되었습니다.\n"
     ]
    }
   ],
   "source": [
    "account2 = account('하니', 6000)"
   ]
  },
  {
   "cell_type": "code",
   "execution_count": 6,
   "id": "nervous-allergy",
   "metadata": {},
   "outputs": [
    {
     "name": "stdout",
     "output_type": "stream",
     "text": [
      "예금주 : 홍하니   잔액 : 6000.00\n"
     ]
    }
   ],
   "source": [
    "# account 정보 수정.. 이름 변경 예시 \n",
    "account2.name = '홍하니'\n",
    "account2.status()"
   ]
  },
  {
   "cell_type": "code",
   "execution_count": 7,
   "id": "comparative-postage",
   "metadata": {},
   "outputs": [
    {
     "name": "stdout",
     "output_type": "stream",
     "text": [
      "2000.00원을 예금하여 총 자산은 8000.00원이 되었습니다. \n"
     ]
    }
   ],
   "source": [
    "account2.save_money(2000)"
   ]
  },
  {
   "cell_type": "code",
   "execution_count": 8,
   "id": "established-bidder",
   "metadata": {},
   "outputs": [
    {
     "name": "stdout",
     "output_type": "stream",
     "text": [
      "예금주 : 홍두깨   잔액 : 10000.00\n"
     ]
    }
   ],
   "source": [
    "account1.status()"
   ]
  },
  {
   "cell_type": "code",
   "execution_count": 9,
   "id": "numeric-episode",
   "metadata": {
    "scrolled": true
   },
   "outputs": [
    {
     "name": "stdout",
     "output_type": "stream",
     "text": [
      "1000.00원을 인출하여 총 자산은 7000.00원이 되었습니다. \n"
     ]
    }
   ],
   "source": [
    "account2.withrow_money(1000)"
   ]
  },
  {
   "cell_type": "code",
   "execution_count": 10,
   "id": "patent-warning",
   "metadata": {
    "scrolled": true
   },
   "outputs": [
    {
     "data": {
      "image/png": "[encoded data removed]",
      "text/plain": [
       "<Figure size 432x288 with 1 Axes>"
      ]
     },
     "metadata": {
      "needs_background": "light"
     },
     "output_type": "display_data"
    }
   ],
   "source": [
    "account2.history()"
   ]
  },
  {
   "cell_type": "code",
   "execution_count": 11,
   "id": "fantastic-consultation",
   "metadata": {},
   "outputs": [],
   "source": [
    "class perceptron:\n",
    "    \n",
    "    def __init__(self, clo, clx):\n",
    "        self.clo = clo # class O\n",
    "        self.clx = clx # class X\n",
    "        self.data_dim = len(self.clo[0])\n",
    "        self.bias = np.random.normal()\n",
    "        self.weights = np.random.normal(size=self.data_dim)\n",
    "        \n",
    "    def forward(self, pt):\n",
    "        return self.bias + np.dot(self.weights, pt) \n",
    "    \n",
    "    def predict(self, pt):\n",
    "        if self.forward(pt) > 0:\n",
    "            return 1\n",
    "        else:\n",
    "            return -1\n",
    "    \n",
    "    def visualize(self, db_op = False):\n",
    "        assert self.data_dim ==2\n",
    "        \n",
    "        plt.figure(figsize=(5,5))\n",
    "        for pt in self.clo:\n",
    "            plt.plot(pt[0], pt[1], 'ro', markersize = 20)\n",
    "        for pt in self.clx:\n",
    "            plt.plot(pt[0],pt[1], 'bx', markersize = 20)\n",
    "    \n",
    "        if db_op:\n",
    "            xmin = min([pt[0] for pt in self.clx + self.clo])\n",
    "            xmax = max([pt[0] for pt in self.clx + self.clo]) \n",
    "    \n",
    "            xrange = np.linspace(xmin,xmax, int((xmax-xmin)*100))\n",
    "            w1 = self.weights[0]\n",
    "            w2 = self.weights[1]\n",
    "            b  = self.bias\n",
    "            line = lambda x : - w1*x / w2 - b / w2 \n",
    "            y = line(xrange)\n",
    "            max_y = max(np.max(y) , max([pt[1] for pt in self.clo+self.clx]) )\n",
    "            plt.plot(xrange, y , 'k--', lw=5)\n",
    "            plt.fill_between(xrange, y, [max_y for _ in xrange], alpha=0.5, color='blue')\n",
    "        return plt.show()"
   ]
  },
  {
   "cell_type": "code",
   "execution_count": 21,
   "metadata": {},
   "outputs": [
    {
     "data": {
      "text/plain": [
       "array([-1.22772046,  0.51109385, -0.00722997])"
      ]
     },
     "execution_count": 21,
     "metadata": {},
     "output_type": "execute_result"
    }
   ],
   "source": [
    "np.random.normal(size=3)"
   ]
  },
  {
   "cell_type": "code",
   "execution_count": 13,
   "id": "mental-material",
   "metadata": {},
   "outputs": [],
   "source": [
    "aa = [[-1,0],[0,1]]\n",
    "bb = [[1,0], [1,1]]\n",
    "p1 = perceptron(aa,bb)"
   ]
  },
  {
   "cell_type": "code",
   "execution_count": 14,
   "id": "breathing-orbit",
   "metadata": {},
   "outputs": [
    {
     "data": {
      "text/plain": [
       "1"
      ]
     },
     "execution_count": 14,
     "metadata": {},
     "output_type": "execute_result"
    }
   ],
   "source": [
    "p1.predict([1,1])"
   ]
  },
  {
   "cell_type": "code",
   "execution_count": 15,
   "id": "dated-fourth",
   "metadata": {
    "scrolled": false
   },
   "outputs": [
    {
     "data": {
      "image/png": "[encoded data removed]",
      "text/plain": [
       "<Figure size 360x360 with 1 Axes>"
      ]
     },
     "metadata": {
      "needs_background": "light"
     },
     "output_type": "display_data"
    }
   ],
   "source": [
    "p1.visualize(True)"
   ]
  },
  {
   "cell_type": "code",
   "execution_count": 16,
   "id": "accompanied-recruitment",
   "metadata": {},
   "outputs": [],
   "source": [
    "class trainer:\n",
    "    def __init__(self, perceptron):\n",
    "        self.pcr = perceptron\n",
    "        self.clo = self.pcr.clo\n",
    "        self.clx = self.pcr.clx\n",
    "        print(\"테스트 데이터 분류 성공 퍼센트는 %.2f%%입니다.\" %self.test()[1])\n",
    "        \n",
    "        \n",
    "    def test(self):\n",
    "        s_count = 0\n",
    "        self.incorrect = []\n",
    "        for pt in self.clo + self.clx:\n",
    "            t = 2*int(pt in self.clo) - 1\n",
    "            y = self.pcr.predict(pt)\n",
    "            if t*y > 0:\n",
    "                s_count +=1\n",
    "            else:\n",
    "                self.incorrect.append(pt)\n",
    "        self.ratio = 100*s_count / (len(self.clo+self.clx))\n",
    "        return self.incorrect, self.ratio\n",
    "    \n",
    "    \n",
    "    def update(self):\n",
    "        self.test()\n",
    "        if self.incorrect == []:\n",
    "            print(\"모든 테스트 데이터 분류 성공.\")\n",
    "            return False\n",
    "        else:\n",
    "            miss_pt = random.choice(self.incorrect)\n",
    "            t = 2*int(miss_pt in self.clo) -1\n",
    "            self.pcr.weights += t * np.array(miss_pt)\n",
    "            self.pcr.bias += t\n",
    "            return True\n",
    "        \n",
    "    def iterative(self):\n",
    "        step = 1\n",
    "        while self.update() and step<50:\n",
    "            print(\"%d번째 update 결과 분류 성공율은 %.2f\" %(step, self.test()[1]))\n",
    "            step +=1\n",
    "        pass\n",
    "        "
   ]
  },
  {
   "cell_type": "code",
   "execution_count": 17,
   "id": "arabic-exploration",
   "metadata": {
    "scrolled": true
   },
   "outputs": [
    {
     "name": "stdout",
     "output_type": "stream",
     "text": [
      "테스트 데이터 분류 성공 퍼센트는 50.00%입니다.\n"
     ]
    }
   ],
   "source": [
    "ff = trainer(p1)"
   ]
  },
  {
   "cell_type": "code",
   "execution_count": 18,
   "id": "cosmetic-summary",
   "metadata": {
    "scrolled": false
   },
   "outputs": [
    {
     "name": "stdout",
     "output_type": "stream",
     "text": [
      "1번째 update 결과 분류 성공율은 50.00\n",
      "2번째 update 결과 분류 성공율은 50.00\n",
      "3번째 update 결과 분류 성공율은 100.00\n",
      "모든 테스트 데이터 분류 성공.\n"
     ]
    }
   ],
   "source": [
    "ff.iterative()"
   ]
  },
  {
   "cell_type": "code",
   "execution_count": 19,
   "id": "purple-stopping",
   "metadata": {},
   "outputs": [
    {
     "data": {
      "image/png": "[encoded data removed]",
      "text/plain": [
       "<Figure size 360x360 with 1 Axes>"
      ]
     },
     "metadata": {
      "needs_background": "light"
     },
     "output_type": "display_data"
    }
   ],
   "source": [
    "p1.visualize(True)"
   ]
  },
  {
   "cell_type": "code",
   "execution_count": null,
   "id": "according-voice",
   "metadata": {},
   "outputs": [],
   "source": []
  },
  {
   "cell_type": "code",
   "execution_count": null,
   "id": "suited-amount",
   "metadata": {},
   "outputs": [],
   "source": []
  }
 ],
 "metadata": {
  "kernelspec": {
   "display_name": "Python 3",
   "language": "python",
   "name": "python3"
  },
  "language_info": {
   "codemirror_mode": {
    "name": "ipython",
    "version": 3
   },
   "file_extension": ".py",
   "mimetype": "text/x-python",
   "name": "python",
   "nbconvert_exporter": "python",
   "pygments_lexer": "ipython3",
   "version": "3.6.9"
  }
 },
 "nbformat": 4,
 "nbformat_minor": 5
}
