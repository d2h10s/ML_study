{
 "cells": [
  {
   "cell_type": "code",
   "execution_count": 1,
   "id": "induced-standard",
   "metadata": {},
   "outputs": [],
   "source": [
    "import numpy as np\n",
    "import matplotlib.pyplot as plt"
   ]
  },
  {
   "cell_type": "code",
   "execution_count": 2,
   "id": "actual-headset",
   "metadata": {},
   "outputs": [],
   "source": [
    "clo = [[1,1]]\n",
    "clx = [[1,0],[0,1],[0,0]]"
   ]
  },
  {
   "cell_type": "code",
   "execution_count": 3,
   "id": "peripheral-chess",
   "metadata": {},
   "outputs": [],
   "source": [
    "class logistic_model:\n",
    "    def __init__(self, clo, clx):\n",
    "        self.train_data = [[1]+x for x in clo + clx]\n",
    "        self.label_data = [int(x in clo) for x in clo + clx]\n",
    "        self.input_dim  = len(self.train_data[0])\n",
    "        self.weights    = np.random.normal(0, 0.1, self.input_dim) #mean 0 std .1 shape = input_data\n",
    "        \n",
    "    def forward(self, x):\n",
    "        out = np.dot(self.weights, x)\n",
    "        return 1/(1+np.exp(-out))\n",
    "    \n",
    "    def loss(self):\n",
    "        out = 0\n",
    "        for i, x in enumerate(self.train_data):\n",
    "            out += -self.label_data[i]*np.log(self.forward(x)) \\\n",
    "                -(1-self.label_data[i])*np.log(1-self.forward(x))\n",
    "        return out\n",
    "    \n",
    "    def test(self):\n",
    "        ctr = 0 \n",
    "        for i, x in enumerate(self.train_data):\n",
    "            if int(self.forward(x)>=0.5)==self.label_data[i]:\n",
    "                ctr +=1\n",
    "        print(\"정확도 : %.2f%%\" %(100*ctr/(len(self.train_data))))\n",
    "        pass"
   ]
  },
  {
   "cell_type": "code",
   "execution_count": 4,
   "id": "humanitarian-continent",
   "metadata": {},
   "outputs": [],
   "source": [
    "model1 = logistic_model(clo, clx)"
   ]
  },
  {
   "cell_type": "code",
   "execution_count": 5,
   "id": "pointed-europe",
   "metadata": {},
   "outputs": [
    {
     "data": {
      "text/plain": [
       "2.7258797435172113"
      ]
     },
     "execution_count": 5,
     "metadata": {},
     "output_type": "execute_result"
    }
   ],
   "source": [
    "model1.loss()"
   ]
  },
  {
   "cell_type": "code",
   "execution_count": 6,
   "id": "downtown-bulgarian",
   "metadata": {},
   "outputs": [
    {
     "name": "stdout",
     "output_type": "stream",
     "text": [
      "정확도 : 50.00%\n"
     ]
    }
   ],
   "source": [
    "model1.test()"
   ]
  },
  {
   "cell_type": "code",
   "execution_count": 7,
   "id": "lasting-frost",
   "metadata": {},
   "outputs": [],
   "source": [
    "class trainer:\n",
    "    def __init__(self, model, lr):\n",
    "        self.model = model\n",
    "        self.lr    = lr\n",
    "        self.x     = self.model.train_data\n",
    "        self.y     = self.model.label_data\n",
    "        self.loss_history = [self.model.loss()]\n",
    "    \n",
    "    def grad(self):\n",
    "        out = np.zeros(self.model.input_dim)\n",
    "        for i,x in enumerate(self.x):\n",
    "            out -= (self.y[i]-self.model.forward(x))*np.array(x)\n",
    "        return out\n",
    "    \n",
    "    def train(self, iteration):\n",
    "        for i in range(iteration):\n",
    "            self.model.weights -= self.lr * self.grad()\n",
    "            self.loss_history += [self.model.loss()]\n",
    "            print(\"%d-번째 경사하강법 적용시 손실은 %.4f\" \\\n",
    "                  %(len(self.loss_history)-1, self.loss_history[-1]))\n",
    "        plt.plot(self.loss_history, 'r-')\n",
    "        return plt.show()\n",
    "    \n",
    "    "
   ]
  },
  {
   "cell_type": "code",
   "execution_count": 8,
   "id": "sensitive-australia",
   "metadata": {},
   "outputs": [],
   "source": [
    "entropy_trainer = trainer(model1, 0.1)"
   ]
  },
  {
   "cell_type": "code",
   "execution_count": 9,
   "id": "complete-smile",
   "metadata": {},
   "outputs": [
    {
     "name": "stdout",
     "output_type": "stream",
     "text": [
      "1-번째 경사하강법 적용시 손실은 2.6354\n",
      "2-번째 경사하강법 적용시 손실은 2.5610\n",
      "3-번째 경사하강법 적용시 손실은 2.4982\n",
      "4-번째 경사하강법 적용시 손실은 2.4438\n",
      "5-번째 경사하강법 적용시 손실은 2.3957\n",
      "6-번째 경사하강법 적용시 손실은 2.3523\n",
      "7-번째 경사하강법 적용시 손실은 2.3124\n",
      "8-번째 경사하강법 적용시 손실은 2.2754\n",
      "9-번째 경사하강법 적용시 손실은 2.2406\n",
      "10-번째 경사하강법 적용시 손실은 2.2077\n",
      "11-번째 경사하강법 적용시 손실은 2.1762\n",
      "12-번째 경사하강법 적용시 손실은 2.1461\n",
      "13-번째 경사하강법 적용시 손실은 2.1170\n",
      "14-번째 경사하강법 적용시 손실은 2.0890\n",
      "15-번째 경사하강법 적용시 손실은 2.0619\n",
      "16-번째 경사하강법 적용시 손실은 2.0356\n",
      "17-번째 경사하강법 적용시 손실은 2.0101\n",
      "18-번째 경사하강법 적용시 손실은 1.9854\n",
      "19-번째 경사하강법 적용시 손실은 1.9613\n",
      "20-번째 경사하강법 적용시 손실은 1.9378\n",
      "21-번째 경사하강법 적용시 손실은 1.9150\n",
      "22-번째 경사하강법 적용시 손실은 1.8927\n",
      "23-번째 경사하강법 적용시 손실은 1.8710\n",
      "24-번째 경사하강법 적용시 손실은 1.8499\n",
      "25-번째 경사하강법 적용시 손실은 1.8293\n",
      "26-번째 경사하강법 적용시 손실은 1.8092\n",
      "27-번째 경사하강법 적용시 손실은 1.7895\n",
      "28-번째 경사하강법 적용시 손실은 1.7703\n",
      "29-번째 경사하강법 적용시 손실은 1.7516\n",
      "30-번째 경사하강법 적용시 손실은 1.7333\n",
      "31-번째 경사하강법 적용시 손실은 1.7155\n",
      "32-번째 경사하강법 적용시 손실은 1.6980\n",
      "33-번째 경사하강법 적용시 손실은 1.6809\n",
      "34-번째 경사하강법 적용시 손실은 1.6642\n",
      "35-번째 경사하강법 적용시 손실은 1.6479\n",
      "36-번째 경사하강법 적용시 손실은 1.6319\n",
      "37-번째 경사하강법 적용시 손실은 1.6163\n",
      "38-번째 경사하강법 적용시 손실은 1.6010\n",
      "39-번째 경사하강법 적용시 손실은 1.5861\n",
      "40-번째 경사하강법 적용시 손실은 1.5714\n",
      "41-번째 경사하강법 적용시 손실은 1.5570\n",
      "42-번째 경사하강법 적용시 손실은 1.5430\n",
      "43-번째 경사하강법 적용시 손실은 1.5292\n",
      "44-번째 경사하강법 적용시 손실은 1.5157\n",
      "45-번째 경사하강법 적용시 손실은 1.5024\n",
      "46-번째 경사하강법 적용시 손실은 1.4895\n",
      "47-번째 경사하강법 적용시 손실은 1.4767\n",
      "48-번째 경사하강법 적용시 손실은 1.4642\n",
      "49-번째 경사하강법 적용시 손실은 1.4520\n",
      "50-번째 경사하강법 적용시 손실은 1.4400\n",
      "51-번째 경사하강법 적용시 손실은 1.4282\n",
      "52-번째 경사하강법 적용시 손실은 1.4166\n",
      "53-번째 경사하강법 적용시 손실은 1.4052\n",
      "54-번째 경사하강법 적용시 손실은 1.3941\n",
      "55-번째 경사하강법 적용시 손실은 1.3831\n",
      "56-번째 경사하강법 적용시 손실은 1.3723\n",
      "57-번째 경사하강법 적용시 손실은 1.3617\n",
      "58-번째 경사하강법 적용시 손실은 1.3513\n",
      "59-번째 경사하강법 적용시 손실은 1.3411\n",
      "60-번째 경사하강법 적용시 손실은 1.3310\n",
      "61-번째 경사하강법 적용시 손실은 1.3211\n",
      "62-번째 경사하강법 적용시 손실은 1.3114\n",
      "63-번째 경사하강법 적용시 손실은 1.3019\n",
      "64-번째 경사하강법 적용시 손실은 1.2924\n",
      "65-번째 경사하강법 적용시 손실은 1.2832\n",
      "66-번째 경사하강법 적용시 손실은 1.2741\n",
      "67-번째 경사하강법 적용시 손실은 1.2651\n",
      "68-번째 경사하강법 적용시 손실은 1.2563\n",
      "69-번째 경사하강법 적용시 손실은 1.2476\n",
      "70-번째 경사하강법 적용시 손실은 1.2390\n",
      "71-번째 경사하강법 적용시 손실은 1.2306\n",
      "72-번째 경사하강법 적용시 손실은 1.2223\n",
      "73-번째 경사하강법 적용시 손실은 1.2141\n",
      "74-번째 경사하강법 적용시 손실은 1.2061\n",
      "75-번째 경사하강법 적용시 손실은 1.1981\n",
      "76-번째 경사하강법 적용시 손실은 1.1903\n",
      "77-번째 경사하강법 적용시 손실은 1.1826\n",
      "78-번째 경사하강법 적용시 손실은 1.1750\n",
      "79-번째 경사하강법 적용시 손실은 1.1675\n",
      "80-번째 경사하강법 적용시 손실은 1.1601\n",
      "81-번째 경사하강법 적용시 손실은 1.1528\n",
      "82-번째 경사하강법 적용시 손실은 1.1457\n",
      "83-번째 경사하강법 적용시 손실은 1.1386\n",
      "84-번째 경사하강법 적용시 손실은 1.1316\n",
      "85-번째 경사하강법 적용시 손실은 1.1247\n",
      "86-번째 경사하강법 적용시 손실은 1.1179\n",
      "87-번째 경사하강법 적용시 손실은 1.1112\n",
      "88-번째 경사하강법 적용시 손실은 1.1045\n",
      "89-번째 경사하강법 적용시 손실은 1.0980\n",
      "90-번째 경사하강법 적용시 손실은 1.0915\n",
      "91-번째 경사하강법 적용시 손실은 1.0852\n",
      "92-번째 경사하강법 적용시 손실은 1.0789\n",
      "93-번째 경사하강법 적용시 손실은 1.0726\n",
      "94-번째 경사하강법 적용시 손실은 1.0665\n",
      "95-번째 경사하강법 적용시 손실은 1.0604\n",
      "96-번째 경사하강법 적용시 손실은 1.0545\n",
      "97-번째 경사하강법 적용시 손실은 1.0485\n",
      "98-번째 경사하강법 적용시 손실은 1.0427\n",
      "99-번째 경사하강법 적용시 손실은 1.0369\n",
      "100-번째 경사하강법 적용시 손실은 1.0312\n"
     ]
    },
    {
     "data": {
      "image/png": "[encoded data removed]",
      "text/plain": [
       "<Figure size 432x288 with 1 Axes>"
      ]
     },
     "metadata": {
      "needs_background": "light"
     },
     "output_type": "display_data"
    }
   ],
   "source": [
    "entropy_trainer.train(100)"
   ]
  },
  {
   "cell_type": "code",
   "execution_count": 10,
   "id": "drawn-windows",
   "metadata": {},
   "outputs": [
    {
     "name": "stdout",
     "output_type": "stream",
     "text": [
      "정확도 : 100.00%\n"
     ]
    }
   ],
   "source": [
    "model1.test()"
   ]
  },
  {
   "cell_type": "code",
   "execution_count": 11,
   "id": "liquid-television",
   "metadata": {},
   "outputs": [],
   "source": [
    "X, Y = np.meshgrid(np.linspace(0,1,100), np.linspace(0,1,100))"
   ]
  },
  {
   "cell_type": "code",
   "execution_count": 12,
   "id": "dense-humidity",
   "metadata": {},
   "outputs": [],
   "source": [
    "Z = [ int(model1.forward(np.array([1,X[i,j], Y[i,j]])) >=0.5) for i in range(100) for j in range(100) ]"
   ]
  },
  {
   "cell_type": "code",
   "execution_count": 13,
   "id": "collective-apparel",
   "metadata": {},
   "outputs": [
    {
     "data": {
      "text/plain": [
       "(100, 100)"
      ]
     },
     "execution_count": 13,
     "metadata": {},
     "output_type": "execute_result"
    }
   ],
   "source": [
    "Z = np.array(Z)\n",
    "Z = Z.reshape(100,100)\n",
    "Z.shape"
   ]
  },
  {
   "cell_type": "code",
   "execution_count": 14,
   "id": "acting-eight",
   "metadata": {},
   "outputs": [
    {
     "data": {
      "image/png": "[encoded data removed]",
      "text/plain": [
       "<Figure size 432x432 with 1 Axes>"
      ]
     },
     "metadata": {
      "needs_background": "light"
     },
     "output_type": "display_data"
    }
   ],
   "source": [
    "plt.figure(figsize=(6,6))\n",
    "plt.contourf(X,Y, Z, alpha=1, cmap=plt.cm.rainbow)\n",
    "plt.show()"
   ]
  },
  {
   "cell_type": "code",
   "execution_count": null,
   "id": "nonprofit-possession",
   "metadata": {},
   "outputs": [],
   "source": []
  }
 ],
 "metadata": {
  "kernelspec": {
   "display_name": "Python 3",
   "language": "python",
   "name": "python3"
  },
  "language_info": {
   "codemirror_mode": {
    "name": "ipython",
    "version": 3
   },
   "file_extension": ".py",
   "mimetype": "text/x-python",
   "name": "python",
   "nbconvert_exporter": "python",
   "pygments_lexer": "ipython3",
   "version": "3.8.5"
  }
 },
 "nbformat": 4,
 "nbformat_minor": 5
}
