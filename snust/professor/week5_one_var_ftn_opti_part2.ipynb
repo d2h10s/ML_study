{
 "cells": [
  {
   "cell_type": "code",
   "execution_count": 1,
   "metadata": {
    "colab": {},
    "colab_type": "code",
    "id": "8LnKnw6PbmxZ"
   },
   "outputs": [],
   "source": [
    "import numpy as np\n",
    "import matplotlib.pyplot as plt"
   ]
  },
  {
   "cell_type": "code",
   "execution_count": 6,
   "metadata": {},
   "outputs": [],
   "source": [
    "class descent:\n",
    "    def __init__(self, lr, h=1e-6):\n",
    "        self.lr = lr\n",
    "        self.h = h\n",
    "    \n",
    "    def n_D(self, f, x):\n",
    "        return (f(x+self.h)-f(x-self.h))/(2*self.h)\n",
    "\n",
    "    def update(self, f, x):\n",
    "        df =  self.n_D(f, x)\n",
    "        return x - self.lr*df\n",
    "        \n",
    "    def __str__(self):\n",
    "        return '강하법(lr = %s)' %self.lr"
   ]
  },
  {
   "cell_type": "code",
   "execution_count": 7,
   "metadata": {},
   "outputs": [],
   "source": [
    "class one_variable_ftn:\n",
    "    \n",
    "    def __init__(self, ftn, opti):\n",
    "        self.ftn = ftn\n",
    "        self.opti = opti\n",
    "        \n",
    "    def run(self, x0, iteration):\n",
    "        self.xs = [x0]\n",
    "        for j in range(iteration):\n",
    "            self.xs.append(self.opti.update(self.ftn, self.xs[-1]))\n",
    "        print(\"\"\" %s에서 시작해서 %s번 %s을 적용한 결과는 %.3f입니다.\n",
    "        \"\"\"%(x0, iteration, self.opti, self.xs[-1]))\n",
    "        pass\n",
    "\n",
    "    def visualize(self, xi, xe):\n",
    "        x = np.linspace(xi,xe,int((xe-xi)*100))\n",
    "        y = [self.ftn(xx) for xx in x]\n",
    "        plt.plot(x, y, 'k-')\n",
    "        ys = [self.ftn(xx) for xx in self.xs] \n",
    "        plt.plot(self.xs, ys, 'r*')\n",
    "        return plt.show()\n",
    "\n",
    "    def history(self):\n",
    "        for j,x in enumerate(self.xs):\n",
    "            print(\"%s번 %s를 적용한 결과는 %.3f\" %(j, self.opti,  x))\n",
    "        pass"
   ]
  },
  {
   "cell_type": "code",
   "execution_count": 8,
   "metadata": {},
   "outputs": [
    {
     "name": "stdout",
     "output_type": "stream",
     "text": [
      "강하법(lr = 0.01)\n"
     ]
    }
   ],
   "source": [
    "opti1 = descent(0.01)\n",
    "print(opti1)\n",
    "f1 = lambda x : x**2"
   ]
  },
  {
   "cell_type": "code",
   "execution_count": 9,
   "metadata": {
    "colab": {
     "base_uri": "https://localhost:8080/",
     "height": 1000
    },
    "colab_type": "code",
    "id": "m-r0LL90MFYC",
    "outputId": "4664172b-85c6-4e7e-8a3e-ab5e92e94fa4"
   },
   "outputs": [],
   "source": [
    "ex1 = one_variable_ftn(f1, opti1)"
   ]
  },
  {
   "cell_type": "code",
   "execution_count": 9,
   "metadata": {
    "colab": {},
    "colab_type": "code",
    "id": "KSGlZWlPNg9i"
   },
   "outputs": [
    {
     "name": "stdout",
     "output_type": "stream",
     "text": [
      " 2에서 시작해서 100번 강하법을 적용한 결과는 0.265입니다.\n",
      "        \n"
     ]
    }
   ],
   "source": [
    "ex1.run(2, 100)"
   ]
  },
  {
   "cell_type": "code",
   "execution_count": 10,
   "metadata": {},
   "outputs": [
    {
     "data": {
      "image/png": "[encoded data removed]",
      "text/plain": [
       "<Figure size 432x288 with 1 Axes>"
      ]
     },
     "metadata": {
      "needs_background": "light"
     },
     "output_type": "display_data"
    }
   ],
   "source": [
    "ex1.visualize(-1, 2.5)"
   ]
  },
  {
   "cell_type": "code",
   "execution_count": 11,
   "metadata": {},
   "outputs": [
    {
     "name": "stdout",
     "output_type": "stream",
     "text": [
      "0번 강하법를 적용한 결과는 2.000\n",
      "1번 강하법를 적용한 결과는 1.960\n",
      "2번 강하법를 적용한 결과는 1.921\n",
      "3번 강하법를 적용한 결과는 1.882\n",
      "4번 강하법를 적용한 결과는 1.845\n",
      "5번 강하법를 적용한 결과는 1.808\n",
      "6번 강하법를 적용한 결과는 1.772\n",
      "7번 강하법를 적용한 결과는 1.736\n",
      "8번 강하법를 적용한 결과는 1.702\n",
      "9번 강하법를 적용한 결과는 1.667\n",
      "10번 강하법를 적용한 결과는 1.634\n",
      "11번 강하법를 적용한 결과는 1.601\n",
      "12번 강하법를 적용한 결과는 1.569\n",
      "13번 강하법를 적용한 결과는 1.538\n",
      "14번 강하법를 적용한 결과는 1.507\n",
      "15번 강하법를 적용한 결과는 1.477\n",
      "16번 강하법를 적용한 결과는 1.448\n",
      "17번 강하법를 적용한 결과는 1.419\n",
      "18번 강하법를 적용한 결과는 1.390\n",
      "19번 강하법를 적용한 결과는 1.362\n",
      "20번 강하법를 적용한 결과는 1.335\n",
      "21번 강하법를 적용한 결과는 1.309\n",
      "22번 강하법를 적용한 결과는 1.282\n",
      "23번 강하법를 적용한 결과는 1.257\n",
      "24번 강하법를 적용한 결과는 1.232\n",
      "25번 강하법를 적용한 결과는 1.207\n",
      "26번 강하법를 적용한 결과는 1.183\n",
      "27번 강하법를 적용한 결과는 1.159\n",
      "28번 강하법를 적용한 결과는 1.136\n",
      "29번 강하법를 적용한 결과는 1.113\n",
      "30번 강하법를 적용한 결과는 1.091\n",
      "31번 강하법를 적용한 결과는 1.069\n",
      "32번 강하법를 적용한 결과는 1.048\n",
      "33번 강하법를 적용한 결과는 1.027\n",
      "34번 강하법를 적용한 결과는 1.006\n",
      "35번 강하법를 적용한 결과는 0.986\n",
      "36번 강하법를 적용한 결과는 0.966\n",
      "37번 강하법를 적용한 결과는 0.947\n",
      "38번 강하법를 적용한 결과는 0.928\n",
      "39번 강하법를 적용한 결과는 0.910\n",
      "40번 강하법를 적용한 결과는 0.891\n",
      "41번 강하법를 적용한 결과는 0.874\n",
      "42번 강하법를 적용한 결과는 0.856\n",
      "43번 강하법를 적용한 결과는 0.839\n",
      "44번 강하법를 적용한 결과는 0.822\n",
      "45번 강하법를 적용한 결과는 0.806\n",
      "46번 강하법를 적용한 결과는 0.790\n",
      "47번 강하법를 적용한 결과는 0.774\n",
      "48번 강하법를 적용한 결과는 0.758\n",
      "49번 강하법를 적용한 결과는 0.743\n",
      "50번 강하법를 적용한 결과는 0.728\n",
      "51번 강하법를 적용한 결과는 0.714\n",
      "52번 강하법를 적용한 결과는 0.699\n",
      "53번 강하법를 적용한 결과는 0.686\n",
      "54번 강하법를 적용한 결과는 0.672\n",
      "55번 강하법를 적용한 결과는 0.658\n",
      "56번 강하법를 적용한 결과는 0.645\n",
      "57번 강하법를 적용한 결과는 0.632\n",
      "58번 강하법를 적용한 결과는 0.620\n",
      "59번 강하법를 적용한 결과는 0.607\n",
      "60번 강하법를 적용한 결과는 0.595\n",
      "61번 강하법를 적용한 결과는 0.583\n",
      "62번 강하법를 적용한 결과는 0.572\n",
      "63번 강하법를 적용한 결과는 0.560\n",
      "64번 강하법를 적용한 결과는 0.549\n",
      "65번 강하법를 적용한 결과는 0.538\n",
      "66번 강하법를 적용한 결과는 0.527\n",
      "67번 강하법를 적용한 결과는 0.517\n",
      "68번 강하법를 적용한 결과는 0.506\n",
      "69번 강하법를 적용한 결과는 0.496\n",
      "70번 강하법를 적용한 결과는 0.486\n",
      "71번 강하법를 적용한 결과는 0.477\n",
      "72번 강하법를 적용한 결과는 0.467\n",
      "73번 강하법를 적용한 결과는 0.458\n",
      "74번 강하법를 적용한 결과는 0.448\n",
      "75번 강하법를 적용한 결과는 0.440\n",
      "76번 강하법를 적용한 결과는 0.431\n",
      "77번 강하법를 적용한 결과는 0.422\n",
      "78번 강하법를 적용한 결과는 0.414\n",
      "79번 강하법를 적용한 결과는 0.405\n",
      "80번 강하법를 적용한 결과는 0.397\n",
      "81번 강하법를 적용한 결과는 0.389\n",
      "82번 강하법를 적용한 결과는 0.382\n",
      "83번 강하법를 적용한 결과는 0.374\n",
      "84번 강하법를 적용한 결과는 0.366\n",
      "85번 강하법를 적용한 결과는 0.359\n",
      "86번 강하법를 적용한 결과는 0.352\n",
      "87번 강하법를 적용한 결과는 0.345\n",
      "88번 강하법를 적용한 결과는 0.338\n",
      "89번 강하법를 적용한 결과는 0.331\n",
      "90번 강하법를 적용한 결과는 0.325\n",
      "91번 강하법를 적용한 결과는 0.318\n",
      "92번 강하법를 적용한 결과는 0.312\n",
      "93번 강하법를 적용한 결과는 0.306\n",
      "94번 강하법를 적용한 결과는 0.299\n",
      "95번 강하법를 적용한 결과는 0.293\n",
      "96번 강하법를 적용한 결과는 0.288\n",
      "97번 강하법를 적용한 결과는 0.282\n",
      "98번 강하법를 적용한 결과는 0.276\n",
      "99번 강하법를 적용한 결과는 0.271\n",
      "100번 강하법를 적용한 결과는 0.265\n"
     ]
    }
   ],
   "source": [
    "ex1.history()"
   ]
  },
  {
   "cell_type": "code",
   "execution_count": 10,
   "metadata": {},
   "outputs": [
    {
     "name": "stdout",
     "output_type": "stream",
     "text": [
      " 2에서 시작해서 100번 강하법(lr = 0.01)을 적용한 결과는 0.344입니다.\n",
      "        \n"
     ]
    },
    {
     "data": {
      "image/png": "[encoded data removed]",
      "text/plain": [
       "<Figure size 432x288 with 1 Axes>"
      ]
     },
     "metadata": {
      "needs_background": "light"
     },
     "output_type": "display_data"
    }
   ],
   "source": [
    "f2 = lambda x : x**4\n",
    "ex4 = one_variable_ftn(f2,opti1)\n",
    "ex4.run(2,100)\n",
    "ex4.visualize(-1,2.5)"
   ]
  },
  {
   "cell_type": "code",
   "execution_count": 29,
   "metadata": {},
   "outputs": [],
   "source": [
    "def f3(x):\n",
    "    if x>1:\n",
    "        return x**2\n",
    "    elif x>0.2:\n",
    "        return 1\n",
    "    else:\n",
    "        return 25*(x**2)"
   ]
  },
  {
   "cell_type": "code",
   "execution_count": 31,
   "metadata": {},
   "outputs": [
    {
     "name": "stdout",
     "output_type": "stream",
     "text": [
      " 2에서 시작해서 200번 강하법(lr = 0.01)을 적용한 결과는 0.986입니다.\n",
      "        \n"
     ]
    },
    {
     "data": {
      "image/png": "[encoded data removed]",
      "text/plain": [
       "<Figure size 432x288 with 1 Axes>"
      ]
     },
     "metadata": {
      "needs_background": "light"
     },
     "output_type": "display_data"
    }
   ],
   "source": [
    "ex5 = one_variable_ftn(f3,opti1)\n",
    "ex5.run(2,200)\n",
    "ex5.visualize(-0.2,2.2)"
   ]
  },
  {
   "cell_type": "code",
   "execution_count": 13,
   "metadata": {},
   "outputs": [],
   "source": [
    "# 뉴턴 방법을 활용한 경사법 \n",
    "class Newton_descent:\n",
    "    def __init__(self, h=1e-6):\n",
    "        self.h = h\n",
    "        pass\n",
    "    \n",
    "    def n_D(self, f, x):\n",
    "        return (f(x+self.h)-f(x-self.h))/(2*self.h)\n",
    "\n",
    "    def update(self, f, x):\n",
    "        a_p = self.n_D(f, x) #f'(x)\n",
    "        a_p_h = self.n_D(f, x+self.h) #f'(x+h)\n",
    "        a_p_h2 = self.n_D(f, x-self.h) #f'(x-h)\n",
    "        a_pp = (a_p_h - a_p_h2)/(2*self.h) #f''(x)\n",
    "        return x - a_p/a_pp  # x - f'(x)/f''(x)\n",
    "        \n",
    "    def __str__(self):\n",
    "        return '뉴턴방법' \n",
    "    "
   ]
  },
  {
   "cell_type": "code",
   "execution_count": 34,
   "metadata": {},
   "outputs": [
    {
     "name": "stdout",
     "output_type": "stream",
     "text": [
      " 2에서 시작해서 25번 뉴턴방법을 적용한 결과는 0.000입니다.\n",
      "        \n"
     ]
    },
    {
     "data": {
      "image/png": "[encoded data removed]",
      "text/plain": [
       "<Figure size 432x288 with 1 Axes>"
      ]
     },
     "metadata": {
      "needs_background": "light"
     },
     "output_type": "display_data"
    }
   ],
   "source": [
    "new_opti = Newton_descent()\n",
    "ex6 = one_variable_ftn(f2,new_opti) #f2 = x^4\n",
    "ex6.run(2,25)\n",
    "ex6.visualize(-0.5,2.2)"
   ]
  },
  {
   "cell_type": "code",
   "execution_count": 22,
   "metadata": {},
   "outputs": [],
   "source": [
    "# Momentum 강하법 \n",
    "class Momentum_descent():\n",
    "    def __init__(self, mu, lr, h=1e-6):\n",
    "        self.previous = 0\n",
    "        self.mu = mu\n",
    "        self.lr = lr\n",
    "        self.h = h\n",
    "    \n",
    "    def n_D(self, f, x):\n",
    "        return (f(x+self.h)-f(x-self.h))/(2*self.h)\n",
    "    \n",
    "    def update(self, f, x):\n",
    "        dx = self.mu * self.previous - self.lr * self.n_D(f,x)\n",
    "        self.previous = dx\n",
    "        return x+dx \n",
    "    \n",
    "    def __str__(self):\n",
    "        return '모멘텀 강하법(mu =%s, lr=%s)' %(self.mu, self.lr) "
   ]
  },
  {
   "cell_type": "code",
   "execution_count": 35,
   "metadata": {},
   "outputs": [
    {
     "name": "stdout",
     "output_type": "stream",
     "text": [
      " 2에서 시작해서 50번 모멘텀 강하법(mu =0.9, lr=0.01)을 적용한 결과는 -0.004입니다.\n",
      "        \n"
     ]
    },
    {
     "data": {
      "image/png": "[encoded data removed]",
      "text/plain": [
       "<Figure size 432x288 with 1 Axes>"
      ]
     },
     "metadata": {
      "needs_background": "light"
     },
     "output_type": "display_data"
    }
   ],
   "source": [
    "mom_opti = Momentum_descent(0.9, 0.01)\n",
    "ex7 = one_variable_ftn(f3,mom_opti)\n",
    "ex7.run(2,50)\n",
    "ex7.visualize(-0.2,2.2)"
   ]
  },
  {
   "cell_type": "code",
   "execution_count": null,
   "metadata": {},
   "outputs": [],
   "source": []
  }
 ],
 "metadata": {
  "colab": {
   "name": "One_variable_Opti.ipynb",
   "provenance": []
  },
  "kernelspec": {
   "display_name": "Python 3",
   "language": "python",
   "name": "python3"
  },
  "language_info": {
   "codemirror_mode": {
    "name": "ipython",
    "version": 3
   },
   "file_extension": ".py",
   "mimetype": "text/x-python",
   "name": "python",
   "nbconvert_exporter": "python",
   "pygments_lexer": "ipython3",
   "version": "3.8.5"
  }
 },
 "nbformat": 4,
 "nbformat_minor": 1
}
