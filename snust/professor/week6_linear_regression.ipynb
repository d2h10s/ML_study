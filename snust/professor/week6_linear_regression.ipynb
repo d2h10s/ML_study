{
 "cells": [
  {
   "cell_type": "code",
   "execution_count": 1,
   "id": "friendly-suggestion",
   "metadata": {},
   "outputs": [],
   "source": [
    "import numpy as np\n",
    "import matplotlib.pyplot as plt"
   ]
  },
  {
   "cell_type": "code",
   "execution_count": 2,
   "id": "happy-charles",
   "metadata": {},
   "outputs": [
    {
     "data": {
      "text/plain": [
       "(25, 2)"
      ]
     },
     "execution_count": 2,
     "metadata": {},
     "output_type": "execute_result"
    }
   ],
   "source": [
    "data = np.load('lr_data.npy')\n",
    "data.shape"
   ]
  },
  {
   "cell_type": "code",
   "execution_count": 3,
   "id": "adapted-sector",
   "metadata": {},
   "outputs": [
    {
     "data": {
      "image/png": "[encoded data removed]",
      "text/plain": [
       "<Figure size 432x288 with 1 Axes>"
      ]
     },
     "metadata": {
      "needs_background": "light"
     },
     "output_type": "display_data"
    }
   ],
   "source": [
    "plt.plot(data[:,0], data[:,1], 'k*')\n",
    "plt.show()"
   ]
  },
  {
   "cell_type": "code",
   "execution_count": 4,
   "id": "loved-petroleum",
   "metadata": {},
   "outputs": [
    {
     "data": {
      "text/plain": [
       "(25, 2)"
      ]
     },
     "execution_count": 4,
     "metadata": {},
     "output_type": "execute_result"
    }
   ],
   "source": [
    "xdata = data[:,0]\n",
    "ydata = data[:,1]\n",
    "train_x =np.array([ np.array([1, x]) for x in xdata])\n",
    "train_x.shape\n"
   ]
  },
  {
   "cell_type": "code",
   "execution_count": 5,
   "id": "owned-uruguay",
   "metadata": {},
   "outputs": [],
   "source": [
    "class linear_model:\n",
    "    def __init__(self, input_data, target_data): #input_data, target_data는 모두 numpy array\n",
    "        self.xdata = input_data\n",
    "        self.ydata = target_data\n",
    "        self.input_dim = self.xdata.shape[1]\n",
    "        self.weights = np.zeros(self.input_dim)\n",
    "        self.N = self.xdata.shape[0]\n",
    "        \n",
    "    def forward(self, x):\n",
    "        return np.dot(self.weights, x)\n",
    "    \n",
    "    def loss(self):\n",
    "        out = np.dot(self.xdata, self.weights)\n",
    "        mse = np.sum((self.ydata - out)**2)/(2*self.N)\n",
    "        return mse\n",
    "    \n",
    "    def loss2(self):\n",
    "        mse = 0\n",
    "        for i,x in enumerate(self.xdata):\n",
    "            mse+= (self.ydata[i]-self.forward(x))**2\n",
    "        return mse/(2*self.N)\n",
    "    \n",
    "    def visualize(self):\n",
    "        assert self.input_dim == 2\n",
    "        if self.weights[0] >=0:\n",
    "            print(\"회귀직선 y=%.3f x +%.3f \" %(self.weights[1], self.weights[0]))\n",
    "        else:\n",
    "            print(\"회귀직선 y=%.3f x %.3f \" %(self.weights[1], self.weights[0]))\n",
    "            \n",
    "        plt.figure(figsize=(6,6))\n",
    "        xx = self.xdata[:,1]\n",
    "        yy = self.ydata\n",
    "        plt.plot(xx, yy, 'r*')\n",
    "        line_x = np.linspace(np.min(xx), np.max(xx), 300)\n",
    "        line_y = np.array([self.forward(np.array([1,x])) for x in line_x])\n",
    "        plt.plot(line_x, line_y, 'k--')\n",
    "        return plt.show()\n",
    "        "
   ]
  },
  {
   "cell_type": "code",
   "execution_count": 6,
   "id": "oriental-defeat",
   "metadata": {},
   "outputs": [],
   "source": [
    "model1 = linear_model(train_x, ydata)"
   ]
  },
  {
   "cell_type": "code",
   "execution_count": 7,
   "id": "communist-lithuania",
   "metadata": {},
   "outputs": [
    {
     "data": {
      "text/plain": [
       "17.794471292652176"
      ]
     },
     "execution_count": 7,
     "metadata": {},
     "output_type": "execute_result"
    }
   ],
   "source": [
    "model1.loss()"
   ]
  },
  {
   "cell_type": "code",
   "execution_count": 8,
   "id": "nonprofit-shelf",
   "metadata": {},
   "outputs": [
    {
     "data": {
      "text/plain": [
       "17.794471292652176"
      ]
     },
     "execution_count": 8,
     "metadata": {},
     "output_type": "execute_result"
    }
   ],
   "source": [
    "model1.loss2()"
   ]
  },
  {
   "cell_type": "code",
   "execution_count": 9,
   "id": "crude-argentina",
   "metadata": {},
   "outputs": [
    {
     "name": "stdout",
     "output_type": "stream",
     "text": [
      "회귀직선 y=0.000 x +0.000 \n"
     ]
    },
    {
     "data": {
      "image/png": "[encoded data removed]",
      "text/plain": [
       "<Figure size 432x432 with 1 Axes>"
      ]
     },
     "metadata": {
      "needs_background": "light"
     },
     "output_type": "display_data"
    }
   ],
   "source": [
    "model1.visualize()"
   ]
  },
  {
   "cell_type": "code",
   "execution_count": 10,
   "id": "earlier-number",
   "metadata": {},
   "outputs": [],
   "source": [
    "class trainer:\n",
    "    def __init__(self, model, lr):\n",
    "        self.model = model\n",
    "        self.lr    = lr\n",
    "        self.loss_history = [self.model.loss()]\n",
    "        \n",
    "    def grad(self):\n",
    "        out = np.zeros(self.model.input_dim)\n",
    "        for i in range(len(self.model.xdata)):\n",
    "            out += (self.model.ydata[i] - self.model.forward(self.model.xdata[i])) \\\n",
    "                    *self.model.xdata[i]\n",
    "        return -out/(2*self.model.N)\n",
    "    \n",
    "    def train(self, iteration):\n",
    "        for i in range(iteration):\n",
    "            self.model.weights -= self.lr * self.grad()\n",
    "            self.loss_history += [self.model.loss()]\n",
    "            print(\"%d-번째 경사하강법 적용시 손실은 %.4f\" \\\n",
    "                  %(len(self.loss_history)-1, self.loss_history[-1]))\n",
    "        plt.plot(self.loss_history, 'r-')\n",
    "        return plt.show()\n",
    "        \n",
    "        \n",
    "        \n",
    "        "
   ]
  },
  {
   "cell_type": "code",
   "execution_count": 11,
   "id": "capital-contrary",
   "metadata": {},
   "outputs": [],
   "source": [
    "mse_trainer = trainer(model1, 0.05)"
   ]
  },
  {
   "cell_type": "code",
   "execution_count": 12,
   "id": "stuck-resort",
   "metadata": {},
   "outputs": [
    {
     "name": "stdout",
     "output_type": "stream",
     "text": [
      "1-번째 경사하강법 적용시 손실은 0.7880\n",
      "2-번째 경사하강법 적용시 손실은 0.1243\n",
      "3-번째 경사하강법 적용시 손실은 0.0980\n",
      "4-번째 경사하강법 적용시 손실은 0.0964\n",
      "5-번째 경사하강법 적용시 손실은 0.0959\n",
      "6-번째 경사하강법 적용시 손실은 0.0954\n",
      "7-번째 경사하강법 적용시 손실은 0.0949\n",
      "8-번째 경사하강법 적용시 손실은 0.0944\n",
      "9-번째 경사하강법 적용시 손실은 0.0940\n",
      "10-번째 경사하강법 적용시 손실은 0.0935\n",
      "11-번째 경사하강법 적용시 손실은 0.0930\n",
      "12-번째 경사하강법 적용시 손실은 0.0926\n",
      "13-번째 경사하강법 적용시 손실은 0.0921\n",
      "14-번째 경사하강법 적용시 손실은 0.0917\n",
      "15-번째 경사하강법 적용시 손실은 0.0912\n",
      "16-번째 경사하강법 적용시 손실은 0.0908\n",
      "17-번째 경사하강법 적용시 손실은 0.0904\n",
      "18-번째 경사하강법 적용시 손실은 0.0900\n",
      "19-번째 경사하강법 적용시 손실은 0.0895\n",
      "20-번째 경사하강법 적용시 손실은 0.0891\n",
      "21-번째 경사하강법 적용시 손실은 0.0887\n",
      "22-번째 경사하강법 적용시 손실은 0.0883\n",
      "23-번째 경사하강법 적용시 손실은 0.0879\n",
      "24-번째 경사하강법 적용시 손실은 0.0875\n",
      "25-번째 경사하강법 적용시 손실은 0.0872\n",
      "26-번째 경사하강법 적용시 손실은 0.0868\n",
      "27-번째 경사하강법 적용시 손실은 0.0864\n",
      "28-번째 경사하강법 적용시 손실은 0.0860\n",
      "29-번째 경사하강법 적용시 손실은 0.0857\n",
      "30-번째 경사하강법 적용시 손실은 0.0853\n",
      "31-번째 경사하강법 적용시 손실은 0.0850\n",
      "32-번째 경사하강법 적용시 손실은 0.0846\n",
      "33-번째 경사하강법 적용시 손실은 0.0843\n",
      "34-번째 경사하강법 적용시 손실은 0.0839\n",
      "35-번째 경사하강법 적용시 손실은 0.0836\n",
      "36-번째 경사하강법 적용시 손실은 0.0832\n",
      "37-번째 경사하강법 적용시 손실은 0.0829\n",
      "38-번째 경사하강법 적용시 손실은 0.0826\n",
      "39-번째 경사하강법 적용시 손실은 0.0823\n",
      "40-번째 경사하강법 적용시 손실은 0.0820\n",
      "41-번째 경사하강법 적용시 손실은 0.0816\n",
      "42-번째 경사하강법 적용시 손실은 0.0813\n",
      "43-번째 경사하강법 적용시 손실은 0.0810\n",
      "44-번째 경사하강법 적용시 손실은 0.0807\n",
      "45-번째 경사하강법 적용시 손실은 0.0804\n",
      "46-번째 경사하강법 적용시 손실은 0.0801\n",
      "47-번째 경사하강법 적용시 손실은 0.0798\n",
      "48-번째 경사하강법 적용시 손실은 0.0796\n",
      "49-번째 경사하강법 적용시 손실은 0.0793\n",
      "50-번째 경사하강법 적용시 손실은 0.0790\n",
      "51-번째 경사하강법 적용시 손실은 0.0787\n",
      "52-번째 경사하강법 적용시 손실은 0.0785\n",
      "53-번째 경사하강법 적용시 손실은 0.0782\n",
      "54-번째 경사하강법 적용시 손실은 0.0779\n",
      "55-번째 경사하강법 적용시 손실은 0.0777\n",
      "56-번째 경사하강법 적용시 손실은 0.0774\n",
      "57-번째 경사하강법 적용시 손실은 0.0772\n",
      "58-번째 경사하강법 적용시 손실은 0.0769\n",
      "59-번째 경사하강법 적용시 손실은 0.0767\n",
      "60-번째 경사하강법 적용시 손실은 0.0764\n",
      "61-번째 경사하강법 적용시 손실은 0.0762\n",
      "62-번째 경사하강법 적용시 손실은 0.0759\n",
      "63-번째 경사하강법 적용시 손실은 0.0757\n",
      "64-번째 경사하강법 적용시 손실은 0.0755\n",
      "65-번째 경사하강법 적용시 손실은 0.0752\n",
      "66-번째 경사하강법 적용시 손실은 0.0750\n",
      "67-번째 경사하강법 적용시 손실은 0.0748\n",
      "68-번째 경사하강법 적용시 손실은 0.0746\n",
      "69-번째 경사하강법 적용시 손실은 0.0744\n",
      "70-번째 경사하강법 적용시 손실은 0.0741\n",
      "71-번째 경사하강법 적용시 손실은 0.0739\n",
      "72-번째 경사하강법 적용시 손실은 0.0737\n",
      "73-번째 경사하강법 적용시 손실은 0.0735\n",
      "74-번째 경사하강법 적용시 손실은 0.0733\n",
      "75-번째 경사하강법 적용시 손실은 0.0731\n",
      "76-번째 경사하강법 적용시 손실은 0.0729\n",
      "77-번째 경사하강법 적용시 손실은 0.0727\n",
      "78-번째 경사하강법 적용시 손실은 0.0725\n",
      "79-번째 경사하강법 적용시 손실은 0.0723\n",
      "80-번째 경사하강법 적용시 손실은 0.0721\n",
      "81-번째 경사하강법 적용시 손실은 0.0720\n",
      "82-번째 경사하강법 적용시 손실은 0.0718\n",
      "83-번째 경사하강법 적용시 손실은 0.0716\n",
      "84-번째 경사하강법 적용시 손실은 0.0714\n",
      "85-번째 경사하강법 적용시 손실은 0.0712\n",
      "86-번째 경사하강법 적용시 손실은 0.0711\n",
      "87-번째 경사하강법 적용시 손실은 0.0709\n",
      "88-번째 경사하강법 적용시 손실은 0.0707\n",
      "89-번째 경사하강법 적용시 손실은 0.0706\n",
      "90-번째 경사하강법 적용시 손실은 0.0704\n",
      "91-번째 경사하강법 적용시 손실은 0.0702\n",
      "92-번째 경사하강법 적용시 손실은 0.0701\n",
      "93-번째 경사하강법 적용시 손실은 0.0699\n",
      "94-번째 경사하강법 적용시 손실은 0.0697\n",
      "95-번째 경사하강법 적용시 손실은 0.0696\n",
      "96-번째 경사하강법 적용시 손실은 0.0694\n",
      "97-번째 경사하강법 적용시 손실은 0.0693\n",
      "98-번째 경사하강법 적용시 손실은 0.0691\n",
      "99-번째 경사하강법 적용시 손실은 0.0690\n",
      "100-번째 경사하강법 적용시 손실은 0.0688\n"
     ]
    },
    {
     "data": {
      "image/png": "[encoded data removed]",
      "text/plain": [
       "<Figure size 432x288 with 1 Axes>"
      ]
     },
     "metadata": {
      "needs_background": "light"
     },
     "output_type": "display_data"
    }
   ],
   "source": [
    "mse_trainer.train(100)"
   ]
  },
  {
   "cell_type": "code",
   "execution_count": 13,
   "id": "floating-guess",
   "metadata": {},
   "outputs": [
    {
     "name": "stdout",
     "output_type": "stream",
     "text": [
      "회귀직선 y=1.079 x -0.105 \n"
     ]
    },
    {
     "data": {
      "image/png": "[encoded data removed]",
      "text/plain": [
       "<Figure size 432x432 with 1 Axes>"
      ]
     },
     "metadata": {
      "needs_background": "light"
     },
     "output_type": "display_data"
    }
   ],
   "source": [
    "model1.visualize()"
   ]
  },
  {
   "cell_type": "code",
   "execution_count": null,
   "id": "physical-commonwealth",
   "metadata": {},
   "outputs": [],
   "source": []
  },
  {
   "cell_type": "code",
   "execution_count": null,
   "id": "brave-drain",
   "metadata": {},
   "outputs": [],
   "source": []
  },
  {
   "cell_type": "code",
   "execution_count": null,
   "id": "general-montgomery",
   "metadata": {},
   "outputs": [],
   "source": []
  },
  {
   "cell_type": "code",
   "execution_count": null,
   "id": "joined-mistress",
   "metadata": {},
   "outputs": [],
   "source": []
  }
 ],
 "metadata": {
  "kernelspec": {
   "display_name": "Python 3",
   "language": "python",
   "name": "python3"
  },
  "language_info": {
   "codemirror_mode": {
    "name": "ipython",
    "version": 3
   },
   "file_extension": ".py",
   "mimetype": "text/x-python",
   "name": "python",
   "nbconvert_exporter": "python",
   "pygments_lexer": "ipython3",
   "version": "3.8.5"
  }
 },
 "nbformat": 4,
 "nbformat_minor": 5
}
