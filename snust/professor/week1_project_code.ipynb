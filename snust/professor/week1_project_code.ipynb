{
 "cells": [
  {
   "cell_type": "code",
   "execution_count": null,
   "metadata": {},
   "outputs": [],
   "source": [
    "import pandas_datareader as pdr \n",
    "from datetime import datetime"
   ]
  },
  {
   "cell_type": "code",
   "execution_count": null,
   "metadata": {},
   "outputs": [],
   "source": [
    "start_day = datetime(2019,1,1)\n",
    "end_day = datetime(2020,12,31)\n",
    "company_code = '005930.KS'\n",
    "\n",
    "df = pdr.data.get_data_yahoo(company_code, start_day, end_day)"
   ]
  },
  {
   "cell_type": "code",
   "execution_count": null,
   "metadata": {},
   "outputs": [],
   "source": [
    "df.describe()"
   ]
  },
  {
   "cell_type": "code",
   "execution_count": null,
   "metadata": {},
   "outputs": [],
   "source": [
    "df['Close'].plot()"
   ]
  },
  {
   "cell_type": "code",
   "execution_count": null,
   "metadata": {},
   "outputs": [],
   "source": [
    "data = {}\n",
    "data['date'] = list(df.index.values)\n",
    "data['High'] = list(df['High'].values)\n",
    "data['Close'] = list(df['Close'].values)\n",
    "data['Low'] =list(df['Low'].values)"
   ]
  },
  {
   "cell_type": "code",
   "execution_count": null,
   "metadata": {},
   "outputs": [],
   "source": [
    "list(df.keys())"
   ]
  },
  {
   "cell_type": "code",
   "execution_count": null,
   "metadata": {},
   "outputs": [],
   "source": [
    "data = {}\n",
    "data['date'] = list(df.index.values)\n",
    "for key in list(df.keys()):\n",
    "    data[key] = list(df[key].values)\n",
    "\n"
   ]
  },
  {
   "cell_type": "code",
   "execution_count": null,
   "metadata": {},
   "outputs": [],
   "source": [
    "# 전략1 : 매일 1주씩 매수 \n",
    "num_stock = 0\n",
    "cost = 0\n",
    "stock_value = 0\n",
    "\n",
    "for j in range(len(data['date'])):\n",
    "    num_stock += 1\n",
    "    cost += data['High'][j]\n",
    "stock_value = num_stock * data['Close'][-1]\n",
    "\n",
    "print(\"\"\"주식 총 가치 : %.0f 원\n",
    "총 비용 : %.0f 원\n",
    "수익률  : %.2f%%\n",
    "\"\"\" %(stock_value, cost, 100*stock_value/cost - 100))"
   ]
  },
  {
   "cell_type": "code",
   "execution_count": null,
   "metadata": {},
   "outputs": [],
   "source": [
    "#2번 전략 : 1주 매입하고 평단 이하이면 2주, 평단 초과면 1주 매입\n",
    "\n",
    "num_stock = 0\n",
    "cost = 0\n",
    "stock_value = 0\n",
    "mean_cost = 0\n",
    "\n",
    "for j in range(len(data['date'])):\n",
    "    if j==0 or mean_cost < data['Low'][j]:\n",
    "        num_stock +=1\n",
    "        cost += data['High'][j]\n",
    "    else:\n",
    "        num_stock +=2\n",
    "        cost += 2*data['High'][j]\n",
    "    mean_cost = cost / num_stock\n",
    "stock_value = num_stock * data['Close'][j]\n",
    "\n",
    "print(\"\"\"주식 총 가치 : %.0f 원\n",
    "총 비용 : %.0f 원\n",
    "수익률  : %.2f%%\n",
    "\"\"\" %(stock_value, cost, 100*stock_value/cost - 100))"
   ]
  },
  {
   "cell_type": "code",
   "execution_count": null,
   "metadata": {},
   "outputs": [],
   "source": [
    "#3번 전략 : 매일 10만원씩 매수\n",
    "\n",
    "num_stock = 0\n",
    "cash = int(1e5)\n",
    "cost = 0\n",
    "stock_value = 0\n",
    "\n",
    "for j in range(len(data['date'])):\n",
    "    num_buy= int(cash/data['High'][j])\n",
    "    num_stock +=num_buy\n",
    "    current_price = data['High'][j]\n",
    "    cost += num_buy*current_price\n",
    "    cash += int(1e5) - num_buy*current_price\n",
    "stock_value = num_stock * data['Close'][j]\n",
    "\n",
    "print(\"\"\"주식 총 가치 : %.0f 원\n",
    "총 비용 : %.0f 원\n",
    "수익률  : %.2f%%\n",
    "\"\"\" %(stock_value, cost, 100*stock_value/cost - 100))\n"
   ]
  },
  {
   "cell_type": "code",
   "execution_count": null,
   "metadata": {},
   "outputs": [],
   "source": []
  }
 ],
 "metadata": {
  "kernelspec": {
   "display_name": "Python 3",
   "language": "python",
   "name": "python3"
  },
  "language_info": {
   "codemirror_mode": {
    "name": "ipython",
    "version": 3
   },
   "file_extension": ".py",
   "mimetype": "text/x-python",
   "name": "python",
   "nbconvert_exporter": "python",
   "pygments_lexer": "ipython3",
   "version": "3.8.5"
  }
 },
 "nbformat": 4,
 "nbformat_minor": 4
}
