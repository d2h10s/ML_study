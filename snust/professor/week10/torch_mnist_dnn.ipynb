{
 "cells": [
  {
   "cell_type": "code",
   "execution_count": 1,
   "id": "thousand-honey",
   "metadata": {},
   "outputs": [],
   "source": [
    "import numpy as np\n",
    "import matplotlib.pyplot as plt\n",
    "import torch\n",
    "import torch.nn as nn\n",
    "import torch.nn.functional as F\n",
    "import torch.optim as optim\n",
    "from IPython.display import clear_output"
   ]
  },
  {
   "cell_type": "code",
   "execution_count": 2,
   "id": "cathedral-musician",
   "metadata": {},
   "outputs": [],
   "source": [
    "#tensorflow keras dataset에서 가져온 데이타셋.\n",
    "train_image = np.load('mnist_train_image.npy')\n",
    "train_label = np.load('mnist_train_label.npy')"
   ]
  },
  {
   "cell_type": "code",
   "execution_count": 3,
   "id": "boxed-humanity",
   "metadata": {},
   "outputs": [
    {
     "data": {
      "text/plain": [
       "(60000, 28, 28)"
      ]
     },
     "execution_count": 3,
     "metadata": {},
     "output_type": "execute_result"
    }
   ],
   "source": [
    "train_image.shape"
   ]
  },
  {
   "cell_type": "code",
   "execution_count": 4,
   "id": "ruled-adolescent",
   "metadata": {},
   "outputs": [
    {
     "name": "stdout",
     "output_type": "stream",
     "text": [
      "0\n",
      "(28, 28)\n"
     ]
    },
    {
     "data": {
      "image/png": "[encoded data removed]",
      "text/plain": [
       "<Figure size 432x288 with 1 Axes>"
      ]
     },
     "metadata": {
      "needs_background": "light"
     },
     "output_type": "display_data"
    }
   ],
   "source": [
    "print(train_label[1])\n",
    "print(train_image[1].shape)\n",
    "plt.imshow(train_image[1])\n",
    "plt.show()\n",
    "\n"
   ]
  },
  {
   "cell_type": "code",
   "execution_count": 5,
   "id": "substantial-coordinator",
   "metadata": {},
   "outputs": [],
   "source": [
    "# 코드가 잘 실행되고 있는지 실험을 위해서 하나 저장해 둠.\n",
    "sample_image = train_image[1].copy()"
   ]
  },
  {
   "cell_type": "code",
   "execution_count": 6,
   "id": "introductory-theme",
   "metadata": {},
   "outputs": [],
   "source": [
    "# 훈련 데이터 셔플\n",
    "index = np.array(range(len(train_image)))\n",
    "np.random.shuffle(index)\n",
    "train_image = train_image[index]\n",
    "train_label = train_label[index]"
   ]
  },
  {
   "cell_type": "code",
   "execution_count": 9,
   "id": "floating-writer",
   "metadata": {},
   "outputs": [
    {
     "data": {
      "text/plain": [
       "array([[-1.       , -1.       , -1.       , -1.       , -1.       ,\n",
       "        -1.       , -1.       , -1.       , -1.       , -1.       ],\n",
       "       [-1.       , -1.       , -1.       , -1.       , -1.       ,\n",
       "        -1.       , -1.       , -1.       , -1.       , -1.       ],\n",
       "       [-1.       , -1.       , -1.       , -1.       , -1.       ,\n",
       "        -1.       , -1.       , -1.       , -1.       , -1.       ],\n",
       "       [-1.       , -1.       , -1.       , -1.       , -1.       ,\n",
       "        -1.       , -1.       , -1.       , -1.       , -1.       ],\n",
       "       [-1.       , -1.       , -1.       , -1.       , -1.       ,\n",
       "        -1.       , -1.       , -1.       , -1.       , -1.       ],\n",
       "       [-1.       , -1.       , -1.       , -1.       , -1.       ,\n",
       "        -1.       , -1.       , -1.       , -1.       , -1.       ],\n",
       "       [-1.       , -1.       , -1.       , -1.       , -1.       ,\n",
       "        -1.       ,  0.703125 ,  0.9765625, -0.4375   , -1.       ],\n",
       "       [-1.       , -1.       , -1.       , -1.       , -1.       ,\n",
       "        -1.       , -0.1171875,  0.9609375,  0.359375 , -1.       ],\n",
       "       [-1.       , -1.       , -1.       , -1.       , -1.       ,\n",
       "        -1.       , -0.7109375,  0.9609375,  0.9609375, -1.       ],\n",
       "       [-1.       , -1.       , -1.       , -1.       , -1.       ,\n",
       "        -1.       , -0.1015625,  0.9609375,  0.3515625, -1.       ]])"
      ]
     },
     "execution_count": 9,
     "metadata": {},
     "output_type": "execute_result"
    }
   ],
   "source": [
    "train_image[0][:10,:10]"
   ]
  },
  {
   "cell_type": "code",
   "execution_count": 8,
   "id": "motivated-democracy",
   "metadata": {},
   "outputs": [],
   "source": [
    "# 데이터 전처리 \n",
    "train_image = (train_image -[128]) / 128"
   ]
  },
  {
   "cell_type": "code",
   "execution_count": 10,
   "id": "pursuant-danish",
   "metadata": {},
   "outputs": [],
   "source": [
    "# 훈련데이터와 검증데이터 분리 \n",
    "sp = int(5e4)\n",
    "train_x = train_image[:sp]\n",
    "train_y = train_label[:sp].astype(np.int32)\n",
    "valid_x = train_image[sp:]\n",
    "valid_y = train_label[sp:].astype(np.int32)"
   ]
  },
  {
   "cell_type": "code",
   "execution_count": 11,
   "id": "stuffed-certification",
   "metadata": {},
   "outputs": [],
   "source": [
    "# 토치 텐서로 변환\n",
    "train_x = torch.FloatTensor(train_x)\n",
    "train_y = torch.LongTensor(train_y)\n",
    "valid_x = torch.FloatTensor(valid_x)\n",
    "valid_y = torch.LongTensor(valid_y)"
   ]
  },
  {
   "cell_type": "code",
   "execution_count": 12,
   "id": "heard-swimming",
   "metadata": {},
   "outputs": [],
   "source": [
    "class net(torch.nn.Module):\n",
    "\n",
    "    def __init__(self):\n",
    "        super(net, self).__init__()\n",
    "        \n",
    "        self.fc1    = nn.Linear(28*28, 500) \n",
    "        self.fc2   = nn.Linear(500, 500)\n",
    "        self.fc3   = nn.Linear(500, 500)\n",
    "        self.fc4   = nn.Linear(500, 10)\n",
    "        \n",
    "        \n",
    "    def forward(self, x):\n",
    "        x = x.view(-1, 28*28) #입력 받은 배치에서 28*28 2d array를 1d array로 변환\n",
    "        x = F.relu(self.fc1(x)) \n",
    "        x = F.relu(self.fc2(x))\n",
    "        x = F.relu(self.fc3(x))\n",
    "        x = F.relu(self.fc4(x))\n",
    "        return x\n",
    "    \n",
    "    def predict(self, image):\n",
    "        image = (image -[128])/128\n",
    "        image = torch.from_numpy(image).float()\n",
    "        out   = self.forward(image).view(-1)\n",
    "        return out.argmax().item()\n",
    "    \n",
    "    def accuracy(self, input_data, target_data):\n",
    "        predict = self.forward(input_data).argmax(axis=1)\n",
    "        correct_cnt = sum(predict==target_data)\n",
    "        print(\"정확도는 %.2f%%입니다.\" %(100*correct_cnt/len(target_data)))\n",
    "        pass\n",
    "    \n",
    "    def save(self, name):\n",
    "        torch.save(self.state_dict(), name + '.pt')\n",
    "        print('Models saved successfully')\n",
    "    \n",
    "    def load(self, name):\n",
    "        self.load_state_dict(torch.load(name + '.pt'))\n",
    "        print ('Models loaded succesfully')\n",
    "    \n",
    "\n",
    "\n"
   ]
  },
  {
   "cell_type": "code",
   "execution_count": 13,
   "id": "lesser-bottom",
   "metadata": {},
   "outputs": [],
   "source": [
    "dnn = net()"
   ]
  },
  {
   "cell_type": "code",
   "execution_count": 14,
   "id": "great-instruction",
   "metadata": {},
   "outputs": [
    {
     "data": {
      "text/plain": [
       "8"
      ]
     },
     "execution_count": 14,
     "metadata": {},
     "output_type": "execute_result"
    }
   ],
   "source": [
    "dnn.predict(sample_image)"
   ]
  },
  {
   "cell_type": "code",
   "execution_count": 16,
   "id": "unexpected-writing",
   "metadata": {},
   "outputs": [
    {
     "data": {
      "text/plain": [
       "tensor([4, 4, 1, 1, 4, 1, 4, 4, 4, 4, 4, 1, 4, 8, 4, 1, 4, 8, 4, 8, 4, 1, 1, 1,\n",
       "        4, 1, 4, 1, 8, 1, 1, 4, 1, 1, 1, 4, 1, 2, 4, 8, 4, 2, 4, 8, 4, 1, 8, 4,\n",
       "        1, 4, 8, 4, 8, 8, 1, 1, 1, 4, 8, 1, 1, 1, 4, 4, 8, 1, 4, 1, 4, 1, 4, 8,\n",
       "        1, 4, 4, 1, 4, 8, 4, 8, 1, 4, 8, 4, 4, 4, 2, 1, 1, 8, 1, 4, 1, 1, 8, 4,\n",
       "        4, 1, 8, 8])"
      ]
     },
     "execution_count": 16,
     "metadata": {},
     "output_type": "execute_result"
    }
   ],
   "source": [
    "dnn.forward(train_x[:100]).argmax(axis=1)"
   ]
  },
  {
   "cell_type": "code",
   "execution_count": 17,
   "id": "romance-conclusion",
   "metadata": {},
   "outputs": [
    {
     "data": {
      "text/plain": [
       "tensor([ True, False, False, False, False, False, False,  True,  True, False,\n",
       "        False, False, False, False, False, False, False,  True, False, False,\n",
       "        False, False, False, False, False, False, False, False, False, False,\n",
       "        False, False, False, False, False, False, False, False, False, False,\n",
       "        False, False, False, False, False, False, False, False, False, False,\n",
       "        False,  True, False, False, False, False, False, False, False, False,\n",
       "         True, False, False, False, False, False, False, False, False,  True,\n",
       "         True, False, False, False, False, False, False, False, False, False,\n",
       "        False, False, False, False, False, False, False, False, False, False,\n",
       "        False, False, False, False, False, False, False, False, False, False])"
      ]
     },
     "execution_count": 17,
     "metadata": {},
     "output_type": "execute_result"
    }
   ],
   "source": [
    "train_y[:100] == dnn.forward(train_x[:100]).argmax(axis=1)"
   ]
  },
  {
   "cell_type": "code",
   "execution_count": 18,
   "id": "comparable-preview",
   "metadata": {},
   "outputs": [
    {
     "data": {
      "text/plain": [
       "tensor(8)"
      ]
     },
     "execution_count": 18,
     "metadata": {},
     "output_type": "execute_result"
    }
   ],
   "source": [
    "sum(_)"
   ]
  },
  {
   "cell_type": "code",
   "execution_count": 19,
   "id": "stable-least",
   "metadata": {},
   "outputs": [
    {
     "name": "stdout",
     "output_type": "stream",
     "text": [
      "정확도는 11.72%입니다.\n"
     ]
    }
   ],
   "source": [
    "dnn.accuracy(train_x, train_y)"
   ]
  },
  {
   "cell_type": "code",
   "execution_count": 20,
   "id": "classified-holocaust",
   "metadata": {},
   "outputs": [],
   "source": [
    "class trainer:\n",
    "    \n",
    "    def __init__(self, net, lr, figname, train_x, train_y, valid_x, valid_y):\n",
    "        \n",
    "        self.net = net\n",
    "        self.lrate = lr\n",
    "        self.name = figname\n",
    "        self.train_x, self.train_y = train_x, train_y\n",
    "        self.valid_x, self.valid_y = valid_x, valid_y\n",
    "        self.optimizer = optim.Adam(self.net.parameters(), lr=self.lrate)\n",
    "        self.loss_layer    = nn.CrossEntropyLoss()\n",
    "        self.train_loss_history = [] \n",
    "        self.valid_loss_history = [] \n",
    "    \n",
    "    def plot(self, train_loss, valid_loss):\n",
    "        clear_output(True)\n",
    "        plt.figure(figsize=(12,6))\n",
    "        plt.subplot(121)\n",
    "        plt.title('train loss')\n",
    "        plt.plot(train_loss, 'k-')\n",
    "        plt.subplot(122)\n",
    "        plt.title('valid loss')\n",
    "        plt.plot(valid_loss)\n",
    "        plt.savefig(self.name +'.png')\n",
    "        plt.show()\n",
    "    \n",
    "    def train(self, epoch=10):\n",
    "        \n",
    "        for j in range(epoch):\n",
    "            \n",
    "            train_loss = 0\n",
    "            idx = np.array(range(sp))\n",
    "            np.random.shuffle(idx)\n",
    "            train_x = self.train_x[idx]\n",
    "            train_y = self.train_y[idx]\n",
    "            for k in range(100):\n",
    "                \n",
    "                self.optimizer.zero_grad()\n",
    "                loss = self.loss_layer(self.net.forward(train_x[500*k:500*(k+1)]), train_y[500*k:500*(k+1)])\n",
    "                loss.backward()\n",
    "                self.optimizer.step()\n",
    "                train_loss += loss.item()\n",
    "                \n",
    "                \n",
    "            self.train_loss_history.append(train_loss)\n",
    "            self.valid_loss_history.append(self.loss_layer(self.net.forward(self.valid_x),self.valid_y).item())\n",
    "        \n",
    "            self.plot(self.train_loss_history, self.valid_loss_history)\n",
    "            if np.argmin(self.valid_loss_history) == j:\n",
    "                print(\"%d-th epoch에서 진척이 있었음.\" %(j+1))\n",
    "                self.net.save('dnn')\n",
    "            else:\n",
    "                print(\"%d-th epoch에서는 진척 없음.\" %(j+1))\n",
    "        print(\"훈련 종료.\")\n",
    "        print(\"%d번째 epoch에서 검증 손실 최소\" %(np.argmin(self.valid_loss_history)+1))\n",
    "\n",
    "\n"
   ]
  },
  {
   "cell_type": "code",
   "execution_count": 21,
   "id": "republican-arizona",
   "metadata": {},
   "outputs": [],
   "source": [
    "tt = trainer(dnn, 2e-4, 'lr2e-4', train_x, train_y, valid_x, valid_y)"
   ]
  },
  {
   "cell_type": "code",
   "execution_count": 22,
   "id": "statewide-advantage",
   "metadata": {},
   "outputs": [
    {
     "data": {
      "image/png": "[encoded data removed]",
      "text/plain": [
       "<Figure size 864x432 with 2 Axes>"
      ]
     },
     "metadata": {
      "needs_background": "light"
     },
     "output_type": "display_data"
    },
    {
     "name": "stdout",
     "output_type": "stream",
     "text": [
      "50-th epoch에서는 진척 없음.\n",
      "훈련 종료.\n",
      "31번째 epoch에서 검증 손실 최소\n"
     ]
    }
   ],
   "source": [
    "tt.train(50)"
   ]
  },
  {
   "cell_type": "code",
   "execution_count": 23,
   "id": "executed-latino",
   "metadata": {},
   "outputs": [
    {
     "name": "stdout",
     "output_type": "stream",
     "text": [
      "정확도는 80.22%입니다.\n"
     ]
    }
   ],
   "source": [
    "dnn.accuracy(train_x, train_y)"
   ]
  },
  {
   "cell_type": "code",
   "execution_count": 24,
   "id": "killing-burning",
   "metadata": {},
   "outputs": [
    {
     "name": "stdout",
     "output_type": "stream",
     "text": [
      "정확도는 79.03%입니다.\n"
     ]
    }
   ],
   "source": [
    "dnn.accuracy(valid_x, valid_y)"
   ]
  },
  {
   "cell_type": "code",
   "execution_count": 28,
   "id": "guided-continuity",
   "metadata": {},
   "outputs": [
    {
     "name": "stdout",
     "output_type": "stream",
     "text": [
      "Models loaded succesfully\n",
      "정확도는 99.01%입니다.\n"
     ]
    }
   ],
   "source": [
    "dnn.load('dnn') \n",
    "dnn.accuracy(valid_x, valid_y)"
   ]
  },
  {
   "cell_type": "code",
   "execution_count": 26,
   "id": "brown-international",
   "metadata": {},
   "outputs": [
    {
     "data": {
      "text/plain": [
       "0"
      ]
     },
     "execution_count": 26,
     "metadata": {},
     "output_type": "execute_result"
    }
   ],
   "source": [
    "dnn.predict(sample_image)"
   ]
  },
  {
   "cell_type": "code",
   "execution_count": null,
   "id": "tamil-naples",
   "metadata": {},
   "outputs": [],
   "source": []
  }
 ],
 "metadata": {
  "kernelspec": {
   "display_name": "Python 3",
   "language": "python",
   "name": "python3"
  },
  "language_info": {
   "codemirror_mode": {
    "name": "ipython",
    "version": 3
   },
   "file_extension": ".py",
   "mimetype": "text/x-python",
   "name": "python",
   "nbconvert_exporter": "python",
   "pygments_lexer": "ipython3",
   "version": "3.8.8"
  }
 },
 "nbformat": 4,
 "nbformat_minor": 5
}
