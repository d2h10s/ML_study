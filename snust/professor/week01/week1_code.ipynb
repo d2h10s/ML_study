{
 "cells": [
  {
   "cell_type": "code",
   "execution_count": null,
   "id": "amber-upset",
   "metadata": {},
   "outputs": [],
   "source": [
    "print(\"Hello, World!\")"
   ]
  },
  {
   "cell_type": "code",
   "execution_count": null,
   "id": "dutch-content",
   "metadata": {},
   "outputs": [],
   "source": [
    "print('Math is fun!') \n",
    "print(\"I'm glad to see you.\")\n",
    "print(\"\"\"Dear Students\n",
    "How are you?\n",
    "Hope everything goes well there. \n",
    "\"\"\")\n"
   ]
  },
  {
   "cell_type": "code",
   "execution_count": null,
   "id": "cooked-washington",
   "metadata": {},
   "outputs": [],
   "source": [
    "print(\"물론 한글도 \\n 출력됩니다.\")"
   ]
  },
  {
   "cell_type": "code",
   "execution_count": null,
   "id": "directed-granny",
   "metadata": {},
   "outputs": [],
   "source": [
    "a = 1\n",
    "a"
   ]
  },
  {
   "cell_type": "code",
   "execution_count": null,
   "id": "military-affair",
   "metadata": {},
   "outputs": [],
   "source": [
    "print(a)"
   ]
  },
  {
   "cell_type": "code",
   "execution_count": null,
   "id": "separate-sphere",
   "metadata": {},
   "outputs": [],
   "source": [
    "type(a)"
   ]
  },
  {
   "cell_type": "code",
   "execution_count": null,
   "id": "mature-mechanics",
   "metadata": {},
   "outputs": [],
   "source": [
    "a=1.0\n",
    "#a\n",
    "print(a)\n",
    "type(a)"
   ]
  },
  {
   "cell_type": "code",
   "execution_count": null,
   "id": "collective-defeat",
   "metadata": {},
   "outputs": [],
   "source": [
    "a = 'SeoulTech'\n",
    "type(a)"
   ]
  },
  {
   "cell_type": "code",
   "execution_count": null,
   "id": "fiscal-breed",
   "metadata": {},
   "outputs": [],
   "source": [
    "print(a)"
   ]
  },
  {
   "cell_type": "code",
   "execution_count": null,
   "id": "organized-architect",
   "metadata": {},
   "outputs": [],
   "source": [
    "a = 1 \n",
    "b = 2 \n",
    "print(a+b)\n",
    "print(a/b)\n",
    "print(\"b의 b승은\", b**b)\n",
    "print(\"%d의 %d승은 %d입니다.\" %(b, b, b**b))\n",
    "print(\"{}의 {}승은 {}입니다.\".format(b, b, b**b))"
   ]
  },
  {
   "cell_type": "code",
   "execution_count": null,
   "id": "incident-function",
   "metadata": {},
   "outputs": [],
   "source": [
    "a = 'SeoulTech'\n",
    "b  = 'is best.'\n",
    "print(a+b)"
   ]
  },
  {
   "cell_type": "code",
   "execution_count": null,
   "id": "dutch-service",
   "metadata": {},
   "outputs": [],
   "source": [
    "print(a+' '+b)"
   ]
  },
  {
   "cell_type": "code",
   "execution_count": null,
   "id": "proper-romantic",
   "metadata": {},
   "outputs": [],
   "source": [
    "a = [1, 1, 2, 3, 5, 8]"
   ]
  },
  {
   "cell_type": "code",
   "execution_count": null,
   "id": "secret-friendly",
   "metadata": {},
   "outputs": [],
   "source": [
    "print(a[3]) \n",
    "print(len(a)) \n",
    "print(a[-3]) \n"
   ]
  },
  {
   "cell_type": "code",
   "execution_count": null,
   "id": "appropriate-graphic",
   "metadata": {},
   "outputs": [],
   "source": [
    "a = a + [a[-1]+a[-2]]\n",
    "print(a)"
   ]
  },
  {
   "cell_type": "code",
   "execution_count": null,
   "id": "waiting-blogger",
   "metadata": {},
   "outputs": [],
   "source": [
    "a += [a[-1]+a[-2]]\n",
    "print(a)"
   ]
  },
  {
   "cell_type": "code",
   "execution_count": null,
   "id": "improving-transport",
   "metadata": {},
   "outputs": [],
   "source": [
    "a.append(a[-1]+a[-2])\n",
    "print(a)"
   ]
  },
  {
   "cell_type": "code",
   "execution_count": null,
   "id": "covered-richardson",
   "metadata": {},
   "outputs": [],
   "source": [
    "del a[-1]\n",
    "print(a)"
   ]
  },
  {
   "cell_type": "code",
   "execution_count": null,
   "id": "protecting-convertible",
   "metadata": {},
   "outputs": [],
   "source": [
    "a.remove(5)\n",
    "print(a)"
   ]
  },
  {
   "cell_type": "code",
   "execution_count": null,
   "id": "located-lover",
   "metadata": {},
   "outputs": [],
   "source": [
    "a.append(1)\n",
    "a.remove(1)\n",
    "print(a)"
   ]
  },
  {
   "cell_type": "code",
   "execution_count": null,
   "id": "planned-browse",
   "metadata": {},
   "outputs": [],
   "source": [
    "# 다시 피보나치 수열 리스트로 돌리기 위해..\n",
    "a = [1] + a\n",
    "del a[-1]\n",
    "print(a)"
   ]
  },
  {
   "cell_type": "code",
   "execution_count": null,
   "id": "cardiovascular-water",
   "metadata": {},
   "outputs": [],
   "source": [
    "print(a[:4])\n",
    "print(a[4:])"
   ]
  },
  {
   "cell_type": "code",
   "execution_count": null,
   "id": "honest-talent",
   "metadata": {},
   "outputs": [],
   "source": [
    "print(a[:-1])"
   ]
  },
  {
   "cell_type": "code",
   "execution_count": null,
   "id": "favorite-israel",
   "metadata": {},
   "outputs": [],
   "source": [
    "print(a[:])"
   ]
  },
  {
   "cell_type": "code",
   "execution_count": null,
   "id": "floral-customs",
   "metadata": {},
   "outputs": [],
   "source": [
    "# slicing + add \n",
    "a = a[:4]+ [5] + a[4:]\n",
    "a"
   ]
  },
  {
   "cell_type": "code",
   "execution_count": null,
   "id": "worst-stylus",
   "metadata": {},
   "outputs": [],
   "source": [
    "S = 0 \n",
    "for j in range(1, 11, 2):\n",
    "    print(j)\n",
    "    S = S + j\n",
    "print(S)"
   ]
  },
  {
   "cell_type": "code",
   "execution_count": null,
   "id": "instructional-parallel",
   "metadata": {},
   "outputs": [],
   "source": [
    "print(a)\n",
    "for entry in a:\n",
    "    print(entry)"
   ]
  },
  {
   "cell_type": "code",
   "execution_count": null,
   "id": "fewer-sellers",
   "metadata": {},
   "outputs": [],
   "source": [
    "for i, e in enumerate(a):\n",
    "    print(\"{}-번째 피보나치 수는 {}입니다.\".format(i+1, e))"
   ]
  },
  {
   "cell_type": "code",
   "execution_count": null,
   "id": "allied-catalyst",
   "metadata": {},
   "outputs": [],
   "source": [
    "fn_list = [1,1]\n",
    "for _ in range(20):\n",
    "    fn_list.append(sum(fn_list[-2:]))\n",
    "print(fn_list)"
   ]
  },
  {
   "cell_type": "code",
   "execution_count": null,
   "id": "blind-stress",
   "metadata": {},
   "outputs": [],
   "source": [
    "bb = fn_list[:]\n",
    "for _ in range(10):\n",
    "    del bb[-1]\n",
    "print(bb)\n",
    "print(fn_list)"
   ]
  },
  {
   "cell_type": "code",
   "execution_count": null,
   "id": "compressed-trail",
   "metadata": {},
   "outputs": [],
   "source": [
    "S = 0\n",
    "for j in range(10):\n",
    "    if j%3 == 0:\n",
    "        S += j\n",
    "    elif j%3 ==1:\n",
    "        S = S - j\n",
    "    else:\n",
    "        S = S * j\n",
    "print(S)"
   ]
  },
  {
   "cell_type": "code",
   "execution_count": null,
   "id": "enclosed-selection",
   "metadata": {},
   "outputs": [],
   "source": [
    "#while 문 예시\n",
    "fn_list = [1,1]\n",
    "while len(fn_list) < 20:\n",
    "    fn_list.append(fn_list[-1]+fn_list[-2])\n",
    "print(len(fn_list))"
   ]
  },
  {
   "cell_type": "code",
   "execution_count": null,
   "id": "matched-practice",
   "metadata": {},
   "outputs": [],
   "source": [
    "fn_list = [1,1]\n",
    "for _ in range(30):\n",
    "    fn_list.append(fn_list[-1]+fn_list[-2])\n",
    "    if len(fn_list)==20:\n",
    "        break\n",
    "print(len(fn_list))"
   ]
  },
  {
   "cell_type": "code",
   "execution_count": null,
   "id": "developmental-preference",
   "metadata": {},
   "outputs": [],
   "source": [
    "while True:\n",
    "    break"
   ]
  },
  {
   "cell_type": "code",
   "execution_count": null,
   "id": "attractive-island",
   "metadata": {},
   "outputs": [],
   "source": [
    "stech = {}\n",
    "stech['학생 수'] = int(1e4)\n",
    "stech['교수 수'] = 300"
   ]
  },
  {
   "cell_type": "code",
   "execution_count": null,
   "id": "specific-maine",
   "metadata": {},
   "outputs": [],
   "source": [
    "stech['교수 수']"
   ]
  },
  {
   "cell_type": "code",
   "execution_count": null,
   "id": "accomplished-freight",
   "metadata": {},
   "outputs": [],
   "source": [
    "stech['소재지'] = '서울시 노원구'"
   ]
  },
  {
   "cell_type": "code",
   "execution_count": null,
   "id": "speaking-error",
   "metadata": {},
   "outputs": [],
   "source": [
    "stech"
   ]
  },
  {
   "cell_type": "code",
   "execution_count": null,
   "id": "neutral-average",
   "metadata": {},
   "outputs": [],
   "source": [
    "del stech['교수 수']"
   ]
  },
  {
   "cell_type": "code",
   "execution_count": null,
   "id": "laughing-carroll",
   "metadata": {},
   "outputs": [],
   "source": [
    "stech"
   ]
  },
  {
   "cell_type": "code",
   "execution_count": null,
   "id": "indoor-score",
   "metadata": {},
   "outputs": [],
   "source": [
    "for key in stech.keys():\n",
    "    print(key)\n",
    "print(\"=\" * 30)\n",
    "for value in stech.values():\n",
    "    print(value)\n",
    "print(\"=\"*30)\n",
    "for key, value in stech.items():\n",
    "    print(\"key : %s   value: %s\" %(key, value))"
   ]
  },
  {
   "cell_type": "code",
   "execution_count": null,
   "id": "objective-merit",
   "metadata": {},
   "outputs": [],
   "source": []
  }
 ],
 "metadata": {
  "kernelspec": {
   "display_name": "Python 3",
   "language": "python",
   "name": "python3"
  },
  "language_info": {
   "codemirror_mode": {
    "name": "ipython",
    "version": 3
   },
   "file_extension": ".py",
   "mimetype": "text/x-python",
   "name": "python",
   "nbconvert_exporter": "python",
   "pygments_lexer": "ipython3",
   "version": "3.8.8"
  }
 },
 "nbformat": 4,
 "nbformat_minor": 5
}
