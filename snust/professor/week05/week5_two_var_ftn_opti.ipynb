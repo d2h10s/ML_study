{
 "cells": [
  {
   "cell_type": "code",
   "execution_count": 1,
   "metadata": {},
   "outputs": [],
   "source": [
    "import numpy as np\n",
    "import matplotlib.pyplot as plt"
   ]
  },
  {
   "cell_type": "code",
   "execution_count": 3,
   "metadata": {},
   "outputs": [],
   "source": [
    "class grad_descent:\n",
    "    def __init__(self, lr, h=1e-6):\n",
    "        self.lr = lr\n",
    "        self.h  = h \n",
    "        \n",
    "    def ngrad(self, f, a):\n",
    "        dx = (f(a[0]+self.h, a[1]) - f(a[0]-self.h, a[1]))/(2*self.h)\n",
    "        dy = (f(a[0], a[1]+self.h) -f(a[0], a[1]-self.h))/(2*self.h)\n",
    "        return np.array([dx,dy])\n",
    "        \n",
    "        \n",
    "    def update(self, f, a):\n",
    "        dz = self.lr * self.ngrad(f, a)\n",
    "        return np.array(a) - dz \n",
    "    \n",
    "    def __str__(self):\n",
    "        return '경사하강법(lr=%s)' %self.lr\n",
    "        "
   ]
  },
  {
   "cell_type": "code",
   "execution_count": 21,
   "metadata": {},
   "outputs": [],
   "source": [
    "class two_variable_ftn:\n",
    "    \n",
    "    def __init__(self, ftn, opti):\n",
    "        self.ftn = ftn\n",
    "        self.opti = opti\n",
    "        \n",
    "    def run(self, x0, iteration):\n",
    "        self.xs = [x0]\n",
    "        for j in range(iteration):\n",
    "            self.xs.append(self.opti.update(self.ftn, self.xs[-1]))\n",
    "        print(\"\"\" (%s, %s)에서 시작해서 %s번 %s을 적용한 결과는 (%.3f, %.3f) 입니다.\n",
    "        \"\"\"%(x0[0], x0[1], iteration, self.opti, self.xs[-1][0], self.xs[-1][1]))\n",
    "        pass\n",
    "\n",
    "    def visualize(self, xi, xe, yi, ye):\n",
    "        plt.figure(figsize=(6,6))\n",
    "        temp = np.array(self.xs)\n",
    "        xdata, ydata = temp[:,0], temp[:,1]\n",
    "        plt.axis('equal')\n",
    "        plt.axis([xi,xe, yi, ye])\n",
    "        plt.scatter(xdata, ydata, s=10)\n",
    "        return plt.show()"
   ]
  },
  {
   "cell_type": "code",
   "execution_count": 22,
   "metadata": {},
   "outputs": [
    {
     "name": "stdout",
     "output_type": "stream",
     "text": [
      " (4, 4)에서 시작해서 200번 경사하강법(lr=0.01)을 적용한 결과는 (0.070, 0.070) 입니다.\n",
      "        \n"
     ]
    },
    {
     "data": {
      "image/png": "[encoded data removed]",
      "text/plain": [
       "<Figure size 432x432 with 1 Axes>"
      ]
     },
     "metadata": {
      "needs_background": "light"
     },
     "output_type": "display_data"
    }
   ],
   "source": [
    "f = lambda x, y : x**2 + y**2\n",
    "opti1 = grad_descent(0.01)\n",
    "ex1 = two_variable_ftn(f, opti1)\n",
    "ex1.run([4,4], 200)\n",
    "ex1.visualize(-5,5,-5,5)"
   ]
  },
  {
   "cell_type": "code",
   "execution_count": 25,
   "metadata": {},
   "outputs": [
    {
     "name": "stdout",
     "output_type": "stream",
     "text": [
      " (4, 4)에서 시작해서 400번 경사하강법(lr=0.01)을 적용한 결과는 (0.001, 1.796) 입니다.\n",
      "        \n"
     ]
    },
    {
     "data": {
      "image/png": "[encoded data removed]",
      "text/plain": [
       "<Figure size 432x432 with 1 Axes>"
      ]
     },
     "metadata": {
      "needs_background": "light"
     },
     "output_type": "display_data"
    }
   ],
   "source": [
    "f2 = lambda x, y : x**2 + y**2 /10\n",
    "opti1 = grad_descent(0.01)\n",
    "ex2 = two_variable_ftn(f2, opti1)\n",
    "ex2.run([4,4], 400)\n",
    "ex2.visualize(-5,5,-5,5)"
   ]
  },
  {
   "cell_type": "code",
   "execution_count": 31,
   "metadata": {},
   "outputs": [],
   "source": [
    "class RMSProp:\n",
    "    def __init__(self, gamma, lr, h=1e-6):\n",
    "        self.gamma = gamma\n",
    "        self.lr = lr\n",
    "        self.h  = h\n",
    "        self.previous = np.zeros(2)\n",
    "    \n",
    "    def ngrad(self, f, a):\n",
    "        dx = (f(a[0]+self.h, a[1]) - f(a[0]-self.h, a[1]))/(2*self.h)\n",
    "        dy = (f(a[0], a[1]+self.h) -f(a[0], a[1]-self.h))/(2*self.h)\n",
    "        return np.array([dx,dy])\n",
    "        \n",
    "    def update(self, f, a):\n",
    "        grad_f = self.ngrad(f, a)\n",
    "        self.previous = self.gamma *self.previous + (1-self.gamma)*grad_f**2\n",
    "        return np.array(a) -self.lr * grad_f/(np.sqrt(self.previous)+1e-8)\n",
    "    \n",
    "    def __str__(self):\n",
    "        return 'RMSProp(gamma=%s, lr=%s)' %(self.gamma, self.lr)\n",
    "        "
   ]
  },
  {
   "cell_type": "code",
   "execution_count": 32,
   "metadata": {},
   "outputs": [
    {
     "name": "stdout",
     "output_type": "stream",
     "text": [
      " (4, 4)에서 시작해서 400번 RMSProp(gamma=0.9, lr=0.01)을 적용한 결과는 (0.172, 0.172) 입니다.\n",
      "        \n"
     ]
    },
    {
     "data": {
      "image/png": "[encoded data removed]",
      "text/plain": [
       "<Figure size 432x432 with 1 Axes>"
      ]
     },
     "metadata": {
      "needs_background": "light"
     },
     "output_type": "display_data"
    }
   ],
   "source": [
    "f2 = lambda x, y : x**2 + y**2 /10\n",
    "opti2 = RMSProp(0.9, 0.01)\n",
    "ex3 = two_variable_ftn(f2, opti2)\n",
    "ex3.run([4,4], 400)\n",
    "ex3.visualize(-5,5,-5,5)"
   ]
  },
  {
   "cell_type": "code",
   "execution_count": 35,
   "metadata": {},
   "outputs": [],
   "source": [
    "class Momentum_descent:\n",
    "    def __init__(self, mu, lr, h=1e-6):\n",
    "        self.mu = mu\n",
    "        self.lr = lr\n",
    "        self.h = h\n",
    "        self.previous = np.zeros(2)\n",
    "        \n",
    "    def ngrad(self, f, a):\n",
    "        dx = (f(a[0]+self.h, a[1]) - f(a[0]-self.h, a[1]))/(2*self.h)\n",
    "        dy = (f(a[0], a[1]+self.h) -f(a[0], a[1]-self.h))/(2*self.h)\n",
    "        return np.array([dx, dy])\n",
    "    \n",
    "    def update(self, f, a):\n",
    "        self.previous = self.mu * self.previous - self.lr * self.ngrad(f, a) \n",
    "        return np.array(a) + self.previous \n",
    "    \n",
    "    def __str__(self):\n",
    "        return '모멘텀(mu=%s, lr=%s)' %(self.mu, self.lr)\n",
    "        "
   ]
  },
  {
   "cell_type": "code",
   "execution_count": 37,
   "metadata": {},
   "outputs": [
    {
     "name": "stdout",
     "output_type": "stream",
     "text": [
      " (4, 4)에서 시작해서 200번 모멘텀(mu=0.9, lr=0.01)을 적용한 결과는 (-0.000, 0.028) 입니다.\n",
      "        \n"
     ]
    },
    {
     "data": {
      "image/png": "[encoded data removed]",
      "text/plain": [
       "<Figure size 432x432 with 1 Axes>"
      ]
     },
     "metadata": {
      "needs_background": "light"
     },
     "output_type": "display_data"
    }
   ],
   "source": [
    "f2 = lambda x, y : x**2 + y**2 /10\n",
    "opti3 = Momentum_descent(0.9, 0.01)\n",
    "ex3 = two_variable_ftn(f2, opti3)\n",
    "ex3.run([4,4], 200)\n",
    "ex3.visualize(-5,5,-5,5)"
   ]
  },
  {
   "cell_type": "code",
   "execution_count": null,
   "metadata": {},
   "outputs": [],
   "source": []
  },
  {
   "cell_type": "code",
   "execution_count": 40,
   "metadata": {},
   "outputs": [],
   "source": [
    "class ADAM:\n",
    "    def __init__(self, beta1, beta2, lr, h=1e-6):\n",
    "        self.beta1 = beta1\n",
    "        self.beta2 = beta2\n",
    "        self.lr = lr\n",
    "        self.dz_m = np.zeros(2) #momentum \n",
    "        self.dz_p = np.zeros(2) #adaptive \n",
    "        self.ctr = 1 #counter\n",
    "        self.h = h\n",
    "    \n",
    "    def ngrad(self, f, a):\n",
    "        dx = (f(a[0]+self.h, a[1]) - f(a[0]-self.h, a[1]))/(2*self.h)\n",
    "        dy = (f(a[0], a[1]+self.h) -f(a[0], a[1]-self.h))/(2*self.h)\n",
    "        return np.array([dx, dy])\n",
    "        \n",
    "    def update(self, f, a):\n",
    "        dz = self.ngrad(f, a)\n",
    "        self.dz_m = self.beta1 * self.dz_m +(1-self.beta1)*dz\n",
    "        self.dz_p = self.beta2 *self.dz_p + (1-self.beta2)*dz**2\n",
    "        mhat = self.dz_m / (1- self.beta1**self.ctr)\n",
    "        phat = self.dz_p/ (1-self.beta2**self.ctr)\n",
    "        self.ctr +=1\n",
    "        return np.array(a) -self.lr * mhat/(np.sqrt(phat)+1e-8) \n",
    "    \n",
    "    def __str__(self):\n",
    "        return 'ADAM(beta_1=%s, beta_2 =%s, lr=%s)' %(self.beta1, self.beta2, self.lr)\n",
    "    \n",
    "        "
   ]
  },
  {
   "cell_type": "code",
   "execution_count": 42,
   "metadata": {},
   "outputs": [
    {
     "name": "stdout",
     "output_type": "stream",
     "text": [
      " (4, 4)에서 시작해서 400번 ADAM(beta_1=0.9, beta_2 =0.9, lr=0.01)을 적용한 결과는 (0.032, 0.032) 입니다.\n",
      "        \n"
     ]
    },
    {
     "data": {
      "image/png": "[encoded data removed]",
      "text/plain": [
       "<Figure size 432x432 with 1 Axes>"
      ]
     },
     "metadata": {
      "needs_background": "light"
     },
     "output_type": "display_data"
    }
   ],
   "source": [
    "f2 = lambda x, y : x**2 + y**2 /10\n",
    "opti4 = ADAM(0.9, 0.9,  0.01)\n",
    "ex4 = two_variable_ftn(f2, opti4)\n",
    "ex4.run([4,4], 400)\n",
    "ex4.visualize(-5,5,-5,5)"
   ]
  },
  {
   "cell_type": "code",
   "execution_count": null,
   "metadata": {},
   "outputs": [],
   "source": []
  }
 ],
 "metadata": {
  "kernelspec": {
   "display_name": "Python 3",
   "language": "python",
   "name": "python3"
  },
  "language_info": {
   "codemirror_mode": {
    "name": "ipython",
    "version": 3
   },
   "file_extension": ".py",
   "mimetype": "text/x-python",
   "name": "python",
   "nbconvert_exporter": "python",
   "pygments_lexer": "ipython3",
   "version": "3.8.5"
  }
 },
 "nbformat": 4,
 "nbformat_minor": 2
}
